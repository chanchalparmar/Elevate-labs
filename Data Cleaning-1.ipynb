{
 "cells": [
  {
   "cell_type": "code",
   "execution_count": 1,
   "id": "9b8c92ee-defd-4a90-b705-e85e91e555f6",
   "metadata": {},
   "outputs": [],
   "source": [
    "import numpy as np\n",
    "import pandas as pd"
   ]
  },
  {
   "cell_type": "markdown",
   "id": "79ad9dba-fc39-4b0c-960b-905c7afbd22c",
   "metadata": {},
   "source": [
    "# Example 1\n",
    "check null values"
   ]
  },
  {
   "cell_type": "code",
   "execution_count": 3,
   "id": "b283d3c5-c04d-403d-b559-c6d72019721d",
   "metadata": {},
   "outputs": [
    {
     "data": {
      "text/html": [
       "<div>\n",
       "<style scoped>\n",
       "    .dataframe tbody tr th:only-of-type {\n",
       "        vertical-align: middle;\n",
       "    }\n",
       "\n",
       "    .dataframe tbody tr th {\n",
       "        vertical-align: top;\n",
       "    }\n",
       "\n",
       "    .dataframe thead th {\n",
       "        text-align: right;\n",
       "    }\n",
       "</style>\n",
       "<table border=\"1\" class=\"dataframe\">\n",
       "  <thead>\n",
       "    <tr style=\"text-align: right;\">\n",
       "      <th></th>\n",
       "      <th>First Score</th>\n",
       "      <th>Second Score</th>\n",
       "      <th>Third Score</th>\n",
       "    </tr>\n",
       "  </thead>\n",
       "  <tbody>\n",
       "    <tr>\n",
       "      <th>0</th>\n",
       "      <td>False</td>\n",
       "      <td>False</td>\n",
       "      <td>True</td>\n",
       "    </tr>\n",
       "    <tr>\n",
       "      <th>1</th>\n",
       "      <td>False</td>\n",
       "      <td>False</td>\n",
       "      <td>False</td>\n",
       "    </tr>\n",
       "    <tr>\n",
       "      <th>2</th>\n",
       "      <td>True</td>\n",
       "      <td>False</td>\n",
       "      <td>False</td>\n",
       "    </tr>\n",
       "    <tr>\n",
       "      <th>3</th>\n",
       "      <td>False</td>\n",
       "      <td>True</td>\n",
       "      <td>False</td>\n",
       "    </tr>\n",
       "  </tbody>\n",
       "</table>\n",
       "</div>"
      ],
      "text/plain": [
       "   First Score  Second Score  Third Score\n",
       "0        False         False         True\n",
       "1        False         False        False\n",
       "2         True         False        False\n",
       "3        False          True        False"
      ]
     },
     "execution_count": 3,
     "metadata": {},
     "output_type": "execute_result"
    }
   ],
   "source": [
    "# dictionary of lists \n",
    "dict = {'First Score':[100, 90, np.nan, 95], \n",
    "        'Second Score': [30, 45, 56, np.nan], \n",
    "        'Third Score':[np.nan, 40, 80, 98]} \n",
    "  \n",
    "# creating a dataframe from list \n",
    "df = pd.DataFrame(dict)\n",
    "\n",
    "df.isnull()"
   ]
  },
  {
   "cell_type": "code",
   "execution_count": 4,
   "id": "40c1acad-d6e9-4d44-8b95-7484bb13255f",
   "metadata": {},
   "outputs": [
    {
     "data": {
      "text/html": [
       "<div>\n",
       "<style scoped>\n",
       "    .dataframe tbody tr th:only-of-type {\n",
       "        vertical-align: middle;\n",
       "    }\n",
       "\n",
       "    .dataframe tbody tr th {\n",
       "        vertical-align: top;\n",
       "    }\n",
       "\n",
       "    .dataframe thead th {\n",
       "        text-align: right;\n",
       "    }\n",
       "</style>\n",
       "<table border=\"1\" class=\"dataframe\">\n",
       "  <thead>\n",
       "    <tr style=\"text-align: right;\">\n",
       "      <th></th>\n",
       "      <th>First Score</th>\n",
       "      <th>Second Score</th>\n",
       "      <th>Third Score</th>\n",
       "    </tr>\n",
       "  </thead>\n",
       "  <tbody>\n",
       "    <tr>\n",
       "      <th>0</th>\n",
       "      <td>True</td>\n",
       "      <td>True</td>\n",
       "      <td>False</td>\n",
       "    </tr>\n",
       "    <tr>\n",
       "      <th>1</th>\n",
       "      <td>True</td>\n",
       "      <td>True</td>\n",
       "      <td>True</td>\n",
       "    </tr>\n",
       "    <tr>\n",
       "      <th>2</th>\n",
       "      <td>False</td>\n",
       "      <td>True</td>\n",
       "      <td>True</td>\n",
       "    </tr>\n",
       "    <tr>\n",
       "      <th>3</th>\n",
       "      <td>True</td>\n",
       "      <td>False</td>\n",
       "      <td>True</td>\n",
       "    </tr>\n",
       "  </tbody>\n",
       "</table>\n",
       "</div>"
      ],
      "text/plain": [
       "   First Score  Second Score  Third Score\n",
       "0         True          True        False\n",
       "1         True          True         True\n",
       "2        False          True         True\n",
       "3         True         False         True"
      ]
     },
     "execution_count": 4,
     "metadata": {},
     "output_type": "execute_result"
    }
   ],
   "source": [
    "# dictionary of lists \n",
    "dict = {'First Score':[100, 90, np.nan, 95], \n",
    "        'Second Score': [30, 45, 56, np.nan], \n",
    "        'Third Score':[np.nan, 40, 80, 98]} \n",
    "  \n",
    "# creating a dataframe from list \n",
    "df = pd.DataFrame(dict)\n",
    "\n",
    "df.notnull()"
   ]
  },
  {
   "cell_type": "code",
   "execution_count": 5,
   "id": "8e54855c-62e6-4102-abf5-5a8feb9282b9",
   "metadata": {},
   "outputs": [
    {
     "data": {
      "text/plain": [
       "3"
      ]
     },
     "execution_count": 5,
     "metadata": {},
     "output_type": "execute_result"
    }
   ],
   "source": [
    "# dictionary of lists \n",
    "dict = {'First Score':[100, 90, np.nan, 95], \n",
    "        'Second Score': [30, 45, 56, np.nan], \n",
    "        'Third Score':[np.nan, 40, 80, 98]} \n",
    "  \n",
    "# creating a dataframe from list \n",
    "df = pd.DataFrame(dict)\n",
    "\n",
    "df.isnull().sum().sum()"
   ]
  },
  {
   "cell_type": "markdown",
   "id": "415f2fac-9465-45fd-9151-ecac44b872c4",
   "metadata": {},
   "source": [
    "# fill null value by 0"
   ]
  },
  {
   "cell_type": "code",
   "execution_count": 7,
   "id": "518d1339-9b34-4fa8-a0b4-6fd2bb1cd7af",
   "metadata": {},
   "outputs": [
    {
     "data": {
      "text/html": [
       "<div>\n",
       "<style scoped>\n",
       "    .dataframe tbody tr th:only-of-type {\n",
       "        vertical-align: middle;\n",
       "    }\n",
       "\n",
       "    .dataframe tbody tr th {\n",
       "        vertical-align: top;\n",
       "    }\n",
       "\n",
       "    .dataframe thead th {\n",
       "        text-align: right;\n",
       "    }\n",
       "</style>\n",
       "<table border=\"1\" class=\"dataframe\">\n",
       "  <thead>\n",
       "    <tr style=\"text-align: right;\">\n",
       "      <th></th>\n",
       "      <th>First Score</th>\n",
       "      <th>Second Score</th>\n",
       "      <th>Third Score</th>\n",
       "    </tr>\n",
       "  </thead>\n",
       "  <tbody>\n",
       "    <tr>\n",
       "      <th>0</th>\n",
       "      <td>100.0</td>\n",
       "      <td>30.0</td>\n",
       "      <td>0.0</td>\n",
       "    </tr>\n",
       "    <tr>\n",
       "      <th>1</th>\n",
       "      <td>90.0</td>\n",
       "      <td>45.0</td>\n",
       "      <td>40.0</td>\n",
       "    </tr>\n",
       "    <tr>\n",
       "      <th>2</th>\n",
       "      <td>0.0</td>\n",
       "      <td>56.0</td>\n",
       "      <td>80.0</td>\n",
       "    </tr>\n",
       "    <tr>\n",
       "      <th>3</th>\n",
       "      <td>95.0</td>\n",
       "      <td>0.0</td>\n",
       "      <td>98.0</td>\n",
       "    </tr>\n",
       "  </tbody>\n",
       "</table>\n",
       "</div>"
      ],
      "text/plain": [
       "   First Score  Second Score  Third Score\n",
       "0        100.0          30.0          0.0\n",
       "1         90.0          45.0         40.0\n",
       "2          0.0          56.0         80.0\n",
       "3         95.0           0.0         98.0"
      ]
     },
     "execution_count": 7,
     "metadata": {},
     "output_type": "execute_result"
    }
   ],
   "source": [
    "# dictionary of lists \n",
    "dict = {'First Score':[100, 90, np.nan, 95], \n",
    "        'Second Score': [30, 45, 56, np.nan], \n",
    "        'Third Score':[np.nan, 40, 80, 98]} \n",
    "  \n",
    "# creating a dataframe from list \n",
    "df = pd.DataFrame(dict)\n",
    "\n",
    "df.fillna(0)"
   ]
  },
  {
   "cell_type": "code",
   "execution_count": 8,
   "id": "583659cf-d513-4d02-a765-d364e769b320",
   "metadata": {},
   "outputs": [
    {
     "data": {
      "text/html": [
       "<div>\n",
       "<style scoped>\n",
       "    .dataframe tbody tr th:only-of-type {\n",
       "        vertical-align: middle;\n",
       "    }\n",
       "\n",
       "    .dataframe tbody tr th {\n",
       "        vertical-align: top;\n",
       "    }\n",
       "\n",
       "    .dataframe thead th {\n",
       "        text-align: right;\n",
       "    }\n",
       "</style>\n",
       "<table border=\"1\" class=\"dataframe\">\n",
       "  <thead>\n",
       "    <tr style=\"text-align: right;\">\n",
       "      <th></th>\n",
       "      <th>First Score</th>\n",
       "      <th>Second Score</th>\n",
       "      <th>Third Score</th>\n",
       "    </tr>\n",
       "  </thead>\n",
       "  <tbody>\n",
       "    <tr>\n",
       "      <th>0</th>\n",
       "      <td>100.0</td>\n",
       "      <td>30.0</td>\n",
       "      <td>5.6</td>\n",
       "    </tr>\n",
       "    <tr>\n",
       "      <th>1</th>\n",
       "      <td>90.0</td>\n",
       "      <td>45.0</td>\n",
       "      <td>40.0</td>\n",
       "    </tr>\n",
       "    <tr>\n",
       "      <th>2</th>\n",
       "      <td>5.6</td>\n",
       "      <td>56.0</td>\n",
       "      <td>80.0</td>\n",
       "    </tr>\n",
       "    <tr>\n",
       "      <th>3</th>\n",
       "      <td>95.0</td>\n",
       "      <td>5.6</td>\n",
       "      <td>98.0</td>\n",
       "    </tr>\n",
       "  </tbody>\n",
       "</table>\n",
       "</div>"
      ],
      "text/plain": [
       "   First Score  Second Score  Third Score\n",
       "0        100.0          30.0          5.6\n",
       "1         90.0          45.0         40.0\n",
       "2          5.6          56.0         80.0\n",
       "3         95.0           5.6         98.0"
      ]
     },
     "execution_count": 8,
     "metadata": {},
     "output_type": "execute_result"
    }
   ],
   "source": [
    "# dictionary of lists \n",
    "dict = {'First Score':[100, 90, np.nan, 95], \n",
    "        'Second Score': [30, 45, 56, np.nan], \n",
    "        'Third Score':[np.nan, 40, 80, 98]} \n",
    "  \n",
    "# creating a dataframe from list \n",
    "df = pd.DataFrame(dict)\n",
    "\n",
    "df.fillna(5.6)"
   ]
  },
  {
   "cell_type": "code",
   "execution_count": 9,
   "id": "66eae79e-83ea-4e67-8db8-cecc3e02f478",
   "metadata": {},
   "outputs": [
    {
     "data": {
      "text/html": [
       "<div>\n",
       "<style scoped>\n",
       "    .dataframe tbody tr th:only-of-type {\n",
       "        vertical-align: middle;\n",
       "    }\n",
       "\n",
       "    .dataframe tbody tr th {\n",
       "        vertical-align: top;\n",
       "    }\n",
       "\n",
       "    .dataframe thead th {\n",
       "        text-align: right;\n",
       "    }\n",
       "</style>\n",
       "<table border=\"1\" class=\"dataframe\">\n",
       "  <thead>\n",
       "    <tr style=\"text-align: right;\">\n",
       "      <th></th>\n",
       "      <th>First Score</th>\n",
       "      <th>Second Score</th>\n",
       "      <th>Third Score</th>\n",
       "    </tr>\n",
       "  </thead>\n",
       "  <tbody>\n",
       "    <tr>\n",
       "      <th>0</th>\n",
       "      <td>100.0</td>\n",
       "      <td>30.0</td>\n",
       "      <td>chanchal</td>\n",
       "    </tr>\n",
       "    <tr>\n",
       "      <th>1</th>\n",
       "      <td>90.0</td>\n",
       "      <td>45.0</td>\n",
       "      <td>40.0</td>\n",
       "    </tr>\n",
       "    <tr>\n",
       "      <th>2</th>\n",
       "      <td>chanchal</td>\n",
       "      <td>56.0</td>\n",
       "      <td>80.0</td>\n",
       "    </tr>\n",
       "    <tr>\n",
       "      <th>3</th>\n",
       "      <td>95.0</td>\n",
       "      <td>chanchal</td>\n",
       "      <td>98.0</td>\n",
       "    </tr>\n",
       "  </tbody>\n",
       "</table>\n",
       "</div>"
      ],
      "text/plain": [
       "  First Score Second Score Third Score\n",
       "0       100.0         30.0    chanchal\n",
       "1        90.0         45.0        40.0\n",
       "2    chanchal         56.0        80.0\n",
       "3        95.0     chanchal        98.0"
      ]
     },
     "execution_count": 9,
     "metadata": {},
     "output_type": "execute_result"
    }
   ],
   "source": [
    "# dictionary of lists \n",
    "dict = {'First Score':[100, 90, np.nan, 95], \n",
    "        'Second Score': [30, 45, 56, np.nan], \n",
    "        'Third Score':[np.nan, 40, 80, 98]} \n",
    "  \n",
    "# creating a dataframe from list \n",
    "df = pd.DataFrame(dict)\n",
    "\n",
    "df.fillna('chanchal')"
   ]
  },
  {
   "cell_type": "code",
   "execution_count": 10,
   "id": "bd558587-b41b-4b61-afce-e022293f6b88",
   "metadata": {},
   "outputs": [
    {
     "data": {
      "text/html": [
       "<div>\n",
       "<style scoped>\n",
       "    .dataframe tbody tr th:only-of-type {\n",
       "        vertical-align: middle;\n",
       "    }\n",
       "\n",
       "    .dataframe tbody tr th {\n",
       "        vertical-align: top;\n",
       "    }\n",
       "\n",
       "    .dataframe thead th {\n",
       "        text-align: right;\n",
       "    }\n",
       "</style>\n",
       "<table border=\"1\" class=\"dataframe\">\n",
       "  <thead>\n",
       "    <tr style=\"text-align: right;\">\n",
       "      <th></th>\n",
       "      <th>First Score</th>\n",
       "      <th>Second Score</th>\n",
       "      <th>Third Score</th>\n",
       "    </tr>\n",
       "  </thead>\n",
       "  <tbody>\n",
       "    <tr>\n",
       "      <th>0</th>\n",
       "      <td>100.0</td>\n",
       "      <td>30.000000</td>\n",
       "      <td>72.666667</td>\n",
       "    </tr>\n",
       "    <tr>\n",
       "      <th>1</th>\n",
       "      <td>90.0</td>\n",
       "      <td>45.000000</td>\n",
       "      <td>40.000000</td>\n",
       "    </tr>\n",
       "    <tr>\n",
       "      <th>2</th>\n",
       "      <td>95.0</td>\n",
       "      <td>56.000000</td>\n",
       "      <td>80.000000</td>\n",
       "    </tr>\n",
       "    <tr>\n",
       "      <th>3</th>\n",
       "      <td>95.0</td>\n",
       "      <td>43.666667</td>\n",
       "      <td>98.000000</td>\n",
       "    </tr>\n",
       "  </tbody>\n",
       "</table>\n",
       "</div>"
      ],
      "text/plain": [
       "   First Score  Second Score  Third Score\n",
       "0        100.0     30.000000    72.666667\n",
       "1         90.0     45.000000    40.000000\n",
       "2         95.0     56.000000    80.000000\n",
       "3         95.0     43.666667    98.000000"
      ]
     },
     "execution_count": 10,
     "metadata": {},
     "output_type": "execute_result"
    }
   ],
   "source": [
    "# dictionary of lists \n",
    "dict = {'First Score':[100, 90, np.nan, 95], \n",
    "        'Second Score': [30, 45, 56, np.nan], \n",
    "        'Third Score':[np.nan, 40, 80, 98]} \n",
    "  \n",
    "# creating a dataframe from list \n",
    "df = pd.DataFrame(dict)\n",
    "\n",
    "df.fillna(df.mean())"
   ]
  },
  {
   "cell_type": "code",
   "execution_count": 11,
   "id": "c8c4c2dd-87eb-4b8d-871b-43f435c6e38e",
   "metadata": {},
   "outputs": [
    {
     "data": {
      "text/plain": [
       "First Score     90.0\n",
       "Second Score    30.0\n",
       "Third Score     40.0\n",
       "dtype: float64"
      ]
     },
     "execution_count": 11,
     "metadata": {},
     "output_type": "execute_result"
    }
   ],
   "source": [
    "df.min()"
   ]
  },
  {
   "cell_type": "code",
   "execution_count": 12,
   "id": "5d9458d6-bb4a-43ac-b862-276383c3ec4d",
   "metadata": {},
   "outputs": [
    {
     "data": {
      "text/html": [
       "<div>\n",
       "<style scoped>\n",
       "    .dataframe tbody tr th:only-of-type {\n",
       "        vertical-align: middle;\n",
       "    }\n",
       "\n",
       "    .dataframe tbody tr th {\n",
       "        vertical-align: top;\n",
       "    }\n",
       "\n",
       "    .dataframe thead th {\n",
       "        text-align: right;\n",
       "    }\n",
       "</style>\n",
       "<table border=\"1\" class=\"dataframe\">\n",
       "  <thead>\n",
       "    <tr style=\"text-align: right;\">\n",
       "      <th></th>\n",
       "      <th>First Score</th>\n",
       "      <th>Second Score</th>\n",
       "      <th>Third Score</th>\n",
       "    </tr>\n",
       "  </thead>\n",
       "  <tbody>\n",
       "    <tr>\n",
       "      <th>0</th>\n",
       "      <td>100.0</td>\n",
       "      <td>30.0</td>\n",
       "      <td>40.0</td>\n",
       "    </tr>\n",
       "    <tr>\n",
       "      <th>1</th>\n",
       "      <td>90.0</td>\n",
       "      <td>45.0</td>\n",
       "      <td>40.0</td>\n",
       "    </tr>\n",
       "    <tr>\n",
       "      <th>2</th>\n",
       "      <td>90.0</td>\n",
       "      <td>56.0</td>\n",
       "      <td>80.0</td>\n",
       "    </tr>\n",
       "    <tr>\n",
       "      <th>3</th>\n",
       "      <td>95.0</td>\n",
       "      <td>30.0</td>\n",
       "      <td>98.0</td>\n",
       "    </tr>\n",
       "  </tbody>\n",
       "</table>\n",
       "</div>"
      ],
      "text/plain": [
       "   First Score  Second Score  Third Score\n",
       "0        100.0          30.0         40.0\n",
       "1         90.0          45.0         40.0\n",
       "2         90.0          56.0         80.0\n",
       "3         95.0          30.0         98.0"
      ]
     },
     "execution_count": 12,
     "metadata": {},
     "output_type": "execute_result"
    }
   ],
   "source": [
    "df.fillna(df.min())"
   ]
  },
  {
   "cell_type": "code",
   "execution_count": 13,
   "id": "a57e74a2-1b91-41a4-84b8-f72e4d56a2e8",
   "metadata": {},
   "outputs": [
    {
     "data": {
      "text/plain": [
       "First Score     100.0\n",
       "Second Score     56.0\n",
       "Third Score      98.0\n",
       "dtype: float64"
      ]
     },
     "execution_count": 13,
     "metadata": {},
     "output_type": "execute_result"
    }
   ],
   "source": [
    "df.max()"
   ]
  },
  {
   "cell_type": "code",
   "execution_count": 14,
   "id": "08dda2b2-c7f8-401c-bf8f-f24592ba9814",
   "metadata": {},
   "outputs": [
    {
     "data": {
      "text/html": [
       "<div>\n",
       "<style scoped>\n",
       "    .dataframe tbody tr th:only-of-type {\n",
       "        vertical-align: middle;\n",
       "    }\n",
       "\n",
       "    .dataframe tbody tr th {\n",
       "        vertical-align: top;\n",
       "    }\n",
       "\n",
       "    .dataframe thead th {\n",
       "        text-align: right;\n",
       "    }\n",
       "</style>\n",
       "<table border=\"1\" class=\"dataframe\">\n",
       "  <thead>\n",
       "    <tr style=\"text-align: right;\">\n",
       "      <th></th>\n",
       "      <th>First Score</th>\n",
       "      <th>Second Score</th>\n",
       "      <th>Third Score</th>\n",
       "    </tr>\n",
       "  </thead>\n",
       "  <tbody>\n",
       "    <tr>\n",
       "      <th>0</th>\n",
       "      <td>100.0</td>\n",
       "      <td>30.0</td>\n",
       "      <td>98.0</td>\n",
       "    </tr>\n",
       "    <tr>\n",
       "      <th>1</th>\n",
       "      <td>90.0</td>\n",
       "      <td>45.0</td>\n",
       "      <td>40.0</td>\n",
       "    </tr>\n",
       "    <tr>\n",
       "      <th>2</th>\n",
       "      <td>100.0</td>\n",
       "      <td>56.0</td>\n",
       "      <td>80.0</td>\n",
       "    </tr>\n",
       "    <tr>\n",
       "      <th>3</th>\n",
       "      <td>95.0</td>\n",
       "      <td>56.0</td>\n",
       "      <td>98.0</td>\n",
       "    </tr>\n",
       "  </tbody>\n",
       "</table>\n",
       "</div>"
      ],
      "text/plain": [
       "   First Score  Second Score  Third Score\n",
       "0        100.0          30.0         98.0\n",
       "1         90.0          45.0         40.0\n",
       "2        100.0          56.0         80.0\n",
       "3         95.0          56.0         98.0"
      ]
     },
     "execution_count": 14,
     "metadata": {},
     "output_type": "execute_result"
    }
   ],
   "source": [
    "df.fillna(df.max())"
   ]
  },
  {
   "cell_type": "code",
   "execution_count": 15,
   "id": "847cad07-64cc-4169-9624-31a98ced45c6",
   "metadata": {},
   "outputs": [
    {
     "data": {
      "text/plain": [
       "First Score      5.000000\n",
       "Second Score    13.051181\n",
       "Third Score     29.687259\n",
       "dtype: float64"
      ]
     },
     "execution_count": 15,
     "metadata": {},
     "output_type": "execute_result"
    }
   ],
   "source": [
    "df.std()"
   ]
  },
  {
   "cell_type": "code",
   "execution_count": 16,
   "id": "2d2023da-6ba7-439b-b0d9-b543f3e99302",
   "metadata": {},
   "outputs": [
    {
     "data": {
      "text/html": [
       "<div>\n",
       "<style scoped>\n",
       "    .dataframe tbody tr th:only-of-type {\n",
       "        vertical-align: middle;\n",
       "    }\n",
       "\n",
       "    .dataframe tbody tr th {\n",
       "        vertical-align: top;\n",
       "    }\n",
       "\n",
       "    .dataframe thead th {\n",
       "        text-align: right;\n",
       "    }\n",
       "</style>\n",
       "<table border=\"1\" class=\"dataframe\">\n",
       "  <thead>\n",
       "    <tr style=\"text-align: right;\">\n",
       "      <th></th>\n",
       "      <th>First Score</th>\n",
       "      <th>Second Score</th>\n",
       "      <th>Third Score</th>\n",
       "    </tr>\n",
       "  </thead>\n",
       "  <tbody>\n",
       "    <tr>\n",
       "      <th>0</th>\n",
       "      <td>100.0</td>\n",
       "      <td>30.000000</td>\n",
       "      <td>29.687259</td>\n",
       "    </tr>\n",
       "    <tr>\n",
       "      <th>1</th>\n",
       "      <td>90.0</td>\n",
       "      <td>45.000000</td>\n",
       "      <td>40.000000</td>\n",
       "    </tr>\n",
       "    <tr>\n",
       "      <th>2</th>\n",
       "      <td>5.0</td>\n",
       "      <td>56.000000</td>\n",
       "      <td>80.000000</td>\n",
       "    </tr>\n",
       "    <tr>\n",
       "      <th>3</th>\n",
       "      <td>95.0</td>\n",
       "      <td>13.051181</td>\n",
       "      <td>98.000000</td>\n",
       "    </tr>\n",
       "  </tbody>\n",
       "</table>\n",
       "</div>"
      ],
      "text/plain": [
       "   First Score  Second Score  Third Score\n",
       "0        100.0     30.000000    29.687259\n",
       "1         90.0     45.000000    40.000000\n",
       "2          5.0     56.000000    80.000000\n",
       "3         95.0     13.051181    98.000000"
      ]
     },
     "execution_count": 16,
     "metadata": {},
     "output_type": "execute_result"
    }
   ],
   "source": [
    "df.fillna(df.std())"
   ]
  },
  {
   "cell_type": "markdown",
   "id": "b591134a-b55e-46ac-b9c2-5738f3c15228",
   "metadata": {},
   "source": [
    "# Fill null value by forward padding"
   ]
  },
  {
   "cell_type": "code",
   "execution_count": 18,
   "id": "159a3601-56a9-446e-b6d9-bf7c7ad2e6b4",
   "metadata": {},
   "outputs": [
    {
     "name": "stderr",
     "output_type": "stream",
     "text": [
      "C:\\Users\\HP\\AppData\\Local\\Temp\\ipykernel_7240\\2052791618.py:8: FutureWarning: DataFrame.fillna with 'method' is deprecated and will raise in a future version. Use obj.ffill() or obj.bfill() instead.\n",
      "  df.fillna(method='pad')      #or  use ffill method\n"
     ]
    },
    {
     "data": {
      "text/html": [
       "<div>\n",
       "<style scoped>\n",
       "    .dataframe tbody tr th:only-of-type {\n",
       "        vertical-align: middle;\n",
       "    }\n",
       "\n",
       "    .dataframe tbody tr th {\n",
       "        vertical-align: top;\n",
       "    }\n",
       "\n",
       "    .dataframe thead th {\n",
       "        text-align: right;\n",
       "    }\n",
       "</style>\n",
       "<table border=\"1\" class=\"dataframe\">\n",
       "  <thead>\n",
       "    <tr style=\"text-align: right;\">\n",
       "      <th></th>\n",
       "      <th>First Score</th>\n",
       "      <th>Second Score</th>\n",
       "      <th>Third Score</th>\n",
       "    </tr>\n",
       "  </thead>\n",
       "  <tbody>\n",
       "    <tr>\n",
       "      <th>0</th>\n",
       "      <td>100.0</td>\n",
       "      <td>30.0</td>\n",
       "      <td>NaN</td>\n",
       "    </tr>\n",
       "    <tr>\n",
       "      <th>1</th>\n",
       "      <td>90.0</td>\n",
       "      <td>45.0</td>\n",
       "      <td>40.0</td>\n",
       "    </tr>\n",
       "    <tr>\n",
       "      <th>2</th>\n",
       "      <td>90.0</td>\n",
       "      <td>56.0</td>\n",
       "      <td>80.0</td>\n",
       "    </tr>\n",
       "    <tr>\n",
       "      <th>3</th>\n",
       "      <td>95.0</td>\n",
       "      <td>56.0</td>\n",
       "      <td>98.0</td>\n",
       "    </tr>\n",
       "  </tbody>\n",
       "</table>\n",
       "</div>"
      ],
      "text/plain": [
       "   First Score  Second Score  Third Score\n",
       "0        100.0          30.0          NaN\n",
       "1         90.0          45.0         40.0\n",
       "2         90.0          56.0         80.0\n",
       "3         95.0          56.0         98.0"
      ]
     },
     "execution_count": 18,
     "metadata": {},
     "output_type": "execute_result"
    }
   ],
   "source": [
    "dict = {'First Score':[100, 90, np.nan, 95], \n",
    "        'Second Score': [30, 45, 56, np.nan], \n",
    "        'Third Score':[np.nan, 40, 80, 98]} \n",
    "  \n",
    "# creating a dataframe from list \n",
    "df = pd.DataFrame(dict)\n",
    "\n",
    "df.fillna(method='pad')      #or  use ffill method"
   ]
  },
  {
   "cell_type": "code",
   "execution_count": 19,
   "id": "e7d05a58-5440-491f-9a2e-e39fb8ef572a",
   "metadata": {},
   "outputs": [
    {
     "data": {
      "text/html": [
       "<div>\n",
       "<style scoped>\n",
       "    .dataframe tbody tr th:only-of-type {\n",
       "        vertical-align: middle;\n",
       "    }\n",
       "\n",
       "    .dataframe tbody tr th {\n",
       "        vertical-align: top;\n",
       "    }\n",
       "\n",
       "    .dataframe thead th {\n",
       "        text-align: right;\n",
       "    }\n",
       "</style>\n",
       "<table border=\"1\" class=\"dataframe\">\n",
       "  <thead>\n",
       "    <tr style=\"text-align: right;\">\n",
       "      <th></th>\n",
       "      <th>First Score</th>\n",
       "      <th>Second Score</th>\n",
       "      <th>Third Score</th>\n",
       "    </tr>\n",
       "  </thead>\n",
       "  <tbody>\n",
       "    <tr>\n",
       "      <th>0</th>\n",
       "      <td>100.0</td>\n",
       "      <td>30.0</td>\n",
       "      <td>NaN</td>\n",
       "    </tr>\n",
       "    <tr>\n",
       "      <th>1</th>\n",
       "      <td>90.0</td>\n",
       "      <td>45.0</td>\n",
       "      <td>40.0</td>\n",
       "    </tr>\n",
       "    <tr>\n",
       "      <th>2</th>\n",
       "      <td>90.0</td>\n",
       "      <td>56.0</td>\n",
       "      <td>80.0</td>\n",
       "    </tr>\n",
       "    <tr>\n",
       "      <th>3</th>\n",
       "      <td>95.0</td>\n",
       "      <td>56.0</td>\n",
       "      <td>98.0</td>\n",
       "    </tr>\n",
       "  </tbody>\n",
       "</table>\n",
       "</div>"
      ],
      "text/plain": [
       "   First Score  Second Score  Third Score\n",
       "0        100.0          30.0          NaN\n",
       "1         90.0          45.0         40.0\n",
       "2         90.0          56.0         80.0\n",
       "3         95.0          56.0         98.0"
      ]
     },
     "execution_count": 19,
     "metadata": {},
     "output_type": "execute_result"
    }
   ],
   "source": [
    "df.ffill()"
   ]
  },
  {
   "cell_type": "markdown",
   "id": "71765434-8293-4255-8d3c-095b083576a7",
   "metadata": {},
   "source": [
    "# Fill null value by backaward padding"
   ]
  },
  {
   "cell_type": "code",
   "execution_count": 21,
   "id": "14d8af09-0ee4-4eb7-99af-10a1796361e7",
   "metadata": {},
   "outputs": [
    {
     "name": "stderr",
     "output_type": "stream",
     "text": [
      "C:\\Users\\HP\\AppData\\Local\\Temp\\ipykernel_7240\\2831856154.py:1: FutureWarning: DataFrame.fillna with 'method' is deprecated and will raise in a future version. Use obj.ffill() or obj.bfill() instead.\n",
      "  df.fillna(method='bfill')\n"
     ]
    },
    {
     "data": {
      "text/html": [
       "<div>\n",
       "<style scoped>\n",
       "    .dataframe tbody tr th:only-of-type {\n",
       "        vertical-align: middle;\n",
       "    }\n",
       "\n",
       "    .dataframe tbody tr th {\n",
       "        vertical-align: top;\n",
       "    }\n",
       "\n",
       "    .dataframe thead th {\n",
       "        text-align: right;\n",
       "    }\n",
       "</style>\n",
       "<table border=\"1\" class=\"dataframe\">\n",
       "  <thead>\n",
       "    <tr style=\"text-align: right;\">\n",
       "      <th></th>\n",
       "      <th>First Score</th>\n",
       "      <th>Second Score</th>\n",
       "      <th>Third Score</th>\n",
       "    </tr>\n",
       "  </thead>\n",
       "  <tbody>\n",
       "    <tr>\n",
       "      <th>0</th>\n",
       "      <td>100.0</td>\n",
       "      <td>30.0</td>\n",
       "      <td>40.0</td>\n",
       "    </tr>\n",
       "    <tr>\n",
       "      <th>1</th>\n",
       "      <td>90.0</td>\n",
       "      <td>45.0</td>\n",
       "      <td>40.0</td>\n",
       "    </tr>\n",
       "    <tr>\n",
       "      <th>2</th>\n",
       "      <td>95.0</td>\n",
       "      <td>56.0</td>\n",
       "      <td>80.0</td>\n",
       "    </tr>\n",
       "    <tr>\n",
       "      <th>3</th>\n",
       "      <td>95.0</td>\n",
       "      <td>NaN</td>\n",
       "      <td>98.0</td>\n",
       "    </tr>\n",
       "  </tbody>\n",
       "</table>\n",
       "</div>"
      ],
      "text/plain": [
       "   First Score  Second Score  Third Score\n",
       "0        100.0          30.0         40.0\n",
       "1         90.0          45.0         40.0\n",
       "2         95.0          56.0         80.0\n",
       "3         95.0           NaN         98.0"
      ]
     },
     "execution_count": 21,
     "metadata": {},
     "output_type": "execute_result"
    }
   ],
   "source": [
    "df.fillna(method='bfill')"
   ]
  },
  {
   "cell_type": "markdown",
   "id": "bbbb6cea-3c2a-473e-be9c-9b0d3b6659bb",
   "metadata": {},
   "source": [
    "# Create a DataFrame"
   ]
  },
  {
   "cell_type": "code",
   "execution_count": 23,
   "id": "cd5abfe7-462f-4505-bf65-dd0c0e29d4fe",
   "metadata": {},
   "outputs": [
    {
     "data": {
      "text/html": [
       "<div>\n",
       "<style scoped>\n",
       "    .dataframe tbody tr th:only-of-type {\n",
       "        vertical-align: middle;\n",
       "    }\n",
       "\n",
       "    .dataframe tbody tr th {\n",
       "        vertical-align: top;\n",
       "    }\n",
       "\n",
       "    .dataframe thead th {\n",
       "        text-align: right;\n",
       "    }\n",
       "</style>\n",
       "<table border=\"1\" class=\"dataframe\">\n",
       "  <thead>\n",
       "    <tr style=\"text-align: right;\">\n",
       "      <th></th>\n",
       "      <th>First Score</th>\n",
       "      <th>Second Score</th>\n",
       "      <th>Third Score</th>\n",
       "      <th>Fourth Score</th>\n",
       "    </tr>\n",
       "  </thead>\n",
       "  <tbody>\n",
       "    <tr>\n",
       "      <th>0</th>\n",
       "      <td>False</td>\n",
       "      <td>False</td>\n",
       "      <td>False</td>\n",
       "      <td>True</td>\n",
       "    </tr>\n",
       "    <tr>\n",
       "      <th>1</th>\n",
       "      <td>False</td>\n",
       "      <td>True</td>\n",
       "      <td>False</td>\n",
       "      <td>True</td>\n",
       "    </tr>\n",
       "    <tr>\n",
       "      <th>2</th>\n",
       "      <td>True</td>\n",
       "      <td>False</td>\n",
       "      <td>False</td>\n",
       "      <td>True</td>\n",
       "    </tr>\n",
       "    <tr>\n",
       "      <th>3</th>\n",
       "      <td>False</td>\n",
       "      <td>False</td>\n",
       "      <td>False</td>\n",
       "      <td>False</td>\n",
       "    </tr>\n",
       "  </tbody>\n",
       "</table>\n",
       "</div>"
      ],
      "text/plain": [
       "   First Score  Second Score  Third Score  Fourth Score\n",
       "0        False         False        False          True\n",
       "1        False          True        False          True\n",
       "2         True         False        False          True\n",
       "3        False         False        False         False"
      ]
     },
     "execution_count": 23,
     "metadata": {},
     "output_type": "execute_result"
    }
   ],
   "source": [
    "# dictionary of lists \n",
    "dict = {'First Score':[100, 90, np.nan, 95], \n",
    "        'Second Score': [30, np.nan, 45, 56], \n",
    "        'Third Score':[52, 40, 80, 98], \n",
    "        'Fourth Score':[np.nan, np.nan, np.nan, 65]} \n",
    "  \n",
    "# creating a dataframe from dictionary \n",
    "df = pd.DataFrame(dict)\n",
    "\n",
    "df.isna()"
   ]
  },
  {
   "cell_type": "code",
   "execution_count": 24,
   "id": "b11e2e25-a33c-4e42-b8ca-cf7187f5071b",
   "metadata": {},
   "outputs": [
    {
     "data": {
      "text/plain": [
       "5"
      ]
     },
     "execution_count": 24,
     "metadata": {},
     "output_type": "execute_result"
    }
   ],
   "source": [
    "df.isna().sum().sum()"
   ]
  },
  {
   "cell_type": "code",
   "execution_count": 25,
   "id": "8a9f4b51-60bc-4d81-ae6a-86d5db3eef0d",
   "metadata": {},
   "outputs": [
    {
     "data": {
      "text/html": [
       "<div>\n",
       "<style scoped>\n",
       "    .dataframe tbody tr th:only-of-type {\n",
       "        vertical-align: middle;\n",
       "    }\n",
       "\n",
       "    .dataframe tbody tr th {\n",
       "        vertical-align: top;\n",
       "    }\n",
       "\n",
       "    .dataframe thead th {\n",
       "        text-align: right;\n",
       "    }\n",
       "</style>\n",
       "<table border=\"1\" class=\"dataframe\">\n",
       "  <thead>\n",
       "    <tr style=\"text-align: right;\">\n",
       "      <th></th>\n",
       "      <th>First Score</th>\n",
       "      <th>Second Score</th>\n",
       "      <th>Third Score</th>\n",
       "      <th>Fourth Score</th>\n",
       "    </tr>\n",
       "  </thead>\n",
       "  <tbody>\n",
       "    <tr>\n",
       "      <th>0</th>\n",
       "      <td>100.0</td>\n",
       "      <td>30.0</td>\n",
       "      <td>52</td>\n",
       "      <td>0.0</td>\n",
       "    </tr>\n",
       "    <tr>\n",
       "      <th>1</th>\n",
       "      <td>90.0</td>\n",
       "      <td>0.0</td>\n",
       "      <td>40</td>\n",
       "      <td>0.0</td>\n",
       "    </tr>\n",
       "    <tr>\n",
       "      <th>2</th>\n",
       "      <td>0.0</td>\n",
       "      <td>45.0</td>\n",
       "      <td>80</td>\n",
       "      <td>0.0</td>\n",
       "    </tr>\n",
       "    <tr>\n",
       "      <th>3</th>\n",
       "      <td>95.0</td>\n",
       "      <td>56.0</td>\n",
       "      <td>98</td>\n",
       "      <td>65.0</td>\n",
       "    </tr>\n",
       "  </tbody>\n",
       "</table>\n",
       "</div>"
      ],
      "text/plain": [
       "   First Score  Second Score  Third Score  Fourth Score\n",
       "0        100.0          30.0           52           0.0\n",
       "1         90.0           0.0           40           0.0\n",
       "2          0.0          45.0           80           0.0\n",
       "3         95.0          56.0           98          65.0"
      ]
     },
     "execution_count": 25,
     "metadata": {},
     "output_type": "execute_result"
    }
   ],
   "source": [
    "df.fillna(0)"
   ]
  },
  {
   "cell_type": "code",
   "execution_count": 26,
   "id": "d6f62862-c4a5-45d6-8f6e-0e7e5afedaca",
   "metadata": {},
   "outputs": [
    {
     "data": {
      "text/plain": [
       "First Score     95.000000\n",
       "Second Score    43.666667\n",
       "Third Score     67.500000\n",
       "Fourth Score    65.000000\n",
       "dtype: float64"
      ]
     },
     "execution_count": 26,
     "metadata": {},
     "output_type": "execute_result"
    }
   ],
   "source": [
    "df.mean()"
   ]
  },
  {
   "cell_type": "code",
   "execution_count": 34,
   "id": "9cffdbb4-064d-4691-a27a-5c68454cf941",
   "metadata": {},
   "outputs": [
    {
     "data": {
      "text/html": [
       "<div>\n",
       "<style scoped>\n",
       "    .dataframe tbody tr th:only-of-type {\n",
       "        vertical-align: middle;\n",
       "    }\n",
       "\n",
       "    .dataframe tbody tr th {\n",
       "        vertical-align: top;\n",
       "    }\n",
       "\n",
       "    .dataframe thead th {\n",
       "        text-align: right;\n",
       "    }\n",
       "</style>\n",
       "<table border=\"1\" class=\"dataframe\">\n",
       "  <thead>\n",
       "    <tr style=\"text-align: right;\">\n",
       "      <th></th>\n",
       "      <th>First Score</th>\n",
       "      <th>Second Score</th>\n",
       "      <th>Third Score</th>\n",
       "      <th>Fourth Score</th>\n",
       "    </tr>\n",
       "  </thead>\n",
       "  <tbody>\n",
       "    <tr>\n",
       "      <th>0</th>\n",
       "      <td>100.0</td>\n",
       "      <td>30.000000</td>\n",
       "      <td>52</td>\n",
       "      <td>65.0</td>\n",
       "    </tr>\n",
       "    <tr>\n",
       "      <th>1</th>\n",
       "      <td>90.0</td>\n",
       "      <td>43.666667</td>\n",
       "      <td>40</td>\n",
       "      <td>65.0</td>\n",
       "    </tr>\n",
       "    <tr>\n",
       "      <th>2</th>\n",
       "      <td>95.0</td>\n",
       "      <td>45.000000</td>\n",
       "      <td>80</td>\n",
       "      <td>65.0</td>\n",
       "    </tr>\n",
       "    <tr>\n",
       "      <th>3</th>\n",
       "      <td>95.0</td>\n",
       "      <td>56.000000</td>\n",
       "      <td>98</td>\n",
       "      <td>65.0</td>\n",
       "    </tr>\n",
       "  </tbody>\n",
       "</table>\n",
       "</div>"
      ],
      "text/plain": [
       "   First Score  Second Score  Third Score  Fourth Score\n",
       "0        100.0     30.000000           52          65.0\n",
       "1         90.0     43.666667           40          65.0\n",
       "2         95.0     45.000000           80          65.0\n",
       "3         95.0     56.000000           98          65.0"
      ]
     },
     "execution_count": 34,
     "metadata": {},
     "output_type": "execute_result"
    }
   ],
   "source": [
    "df.fillna(df.mean())"
   ]
  },
  {
   "cell_type": "code",
   "execution_count": 50,
   "id": "b795e28c-400b-4dbc-8163-dc2149cb7632",
   "metadata": {},
   "outputs": [
    {
     "data": {
      "text/plain": [
       "First Score      5.000000\n",
       "Second Score    13.051181\n",
       "Third Score     26.350206\n",
       "Fourth Score          NaN\n",
       "dtype: float64"
      ]
     },
     "execution_count": 50,
     "metadata": {},
     "output_type": "execute_result"
    }
   ],
   "source": [
    "df.std()"
   ]
  },
  {
   "cell_type": "code",
   "execution_count": 52,
   "id": "f97d0b7a-51d0-4809-be66-8ae2471d3ca6",
   "metadata": {},
   "outputs": [
    {
     "data": {
      "text/html": [
       "<div>\n",
       "<style scoped>\n",
       "    .dataframe tbody tr th:only-of-type {\n",
       "        vertical-align: middle;\n",
       "    }\n",
       "\n",
       "    .dataframe tbody tr th {\n",
       "        vertical-align: top;\n",
       "    }\n",
       "\n",
       "    .dataframe thead th {\n",
       "        text-align: right;\n",
       "    }\n",
       "</style>\n",
       "<table border=\"1\" class=\"dataframe\">\n",
       "  <thead>\n",
       "    <tr style=\"text-align: right;\">\n",
       "      <th></th>\n",
       "      <th>First Score</th>\n",
       "      <th>Second Score</th>\n",
       "      <th>Third Score</th>\n",
       "      <th>Fourth Score</th>\n",
       "    </tr>\n",
       "  </thead>\n",
       "  <tbody>\n",
       "    <tr>\n",
       "      <th>0</th>\n",
       "      <td>100.0</td>\n",
       "      <td>30.000000</td>\n",
       "      <td>52</td>\n",
       "      <td>NaN</td>\n",
       "    </tr>\n",
       "    <tr>\n",
       "      <th>1</th>\n",
       "      <td>90.0</td>\n",
       "      <td>13.051181</td>\n",
       "      <td>40</td>\n",
       "      <td>NaN</td>\n",
       "    </tr>\n",
       "    <tr>\n",
       "      <th>2</th>\n",
       "      <td>5.0</td>\n",
       "      <td>45.000000</td>\n",
       "      <td>80</td>\n",
       "      <td>NaN</td>\n",
       "    </tr>\n",
       "    <tr>\n",
       "      <th>3</th>\n",
       "      <td>95.0</td>\n",
       "      <td>56.000000</td>\n",
       "      <td>98</td>\n",
       "      <td>65.0</td>\n",
       "    </tr>\n",
       "  </tbody>\n",
       "</table>\n",
       "</div>"
      ],
      "text/plain": [
       "   First Score  Second Score  Third Score  Fourth Score\n",
       "0        100.0     30.000000           52           NaN\n",
       "1         90.0     13.051181           40           NaN\n",
       "2          5.0     45.000000           80           NaN\n",
       "3         95.0     56.000000           98          65.0"
      ]
     },
     "execution_count": 52,
     "metadata": {},
     "output_type": "execute_result"
    }
   ],
   "source": [
    "df.fillna(df.std())"
   ]
  },
  {
   "cell_type": "code",
   "execution_count": 53,
   "id": "08b20344-8562-40e1-bc50-7faa6ceb5d52",
   "metadata": {},
   "outputs": [
    {
     "data": {
      "text/html": [
       "<div>\n",
       "<style scoped>\n",
       "    .dataframe tbody tr th:only-of-type {\n",
       "        vertical-align: middle;\n",
       "    }\n",
       "\n",
       "    .dataframe tbody tr th {\n",
       "        vertical-align: top;\n",
       "    }\n",
       "\n",
       "    .dataframe thead th {\n",
       "        text-align: right;\n",
       "    }\n",
       "</style>\n",
       "<table border=\"1\" class=\"dataframe\">\n",
       "  <thead>\n",
       "    <tr style=\"text-align: right;\">\n",
       "      <th></th>\n",
       "      <th>First Score</th>\n",
       "      <th>Second Score</th>\n",
       "      <th>Third Score</th>\n",
       "      <th>Fourth Score</th>\n",
       "    </tr>\n",
       "  </thead>\n",
       "  <tbody>\n",
       "    <tr>\n",
       "      <th>0</th>\n",
       "      <td>100.0</td>\n",
       "      <td>30.0</td>\n",
       "      <td>52</td>\n",
       "      <td>NaN</td>\n",
       "    </tr>\n",
       "    <tr>\n",
       "      <th>1</th>\n",
       "      <td>90.0</td>\n",
       "      <td>30.0</td>\n",
       "      <td>40</td>\n",
       "      <td>NaN</td>\n",
       "    </tr>\n",
       "    <tr>\n",
       "      <th>2</th>\n",
       "      <td>90.0</td>\n",
       "      <td>45.0</td>\n",
       "      <td>80</td>\n",
       "      <td>NaN</td>\n",
       "    </tr>\n",
       "    <tr>\n",
       "      <th>3</th>\n",
       "      <td>95.0</td>\n",
       "      <td>56.0</td>\n",
       "      <td>98</td>\n",
       "      <td>65.0</td>\n",
       "    </tr>\n",
       "  </tbody>\n",
       "</table>\n",
       "</div>"
      ],
      "text/plain": [
       "   First Score  Second Score  Third Score  Fourth Score\n",
       "0        100.0          30.0           52           NaN\n",
       "1         90.0          30.0           40           NaN\n",
       "2         90.0          45.0           80           NaN\n",
       "3         95.0          56.0           98          65.0"
      ]
     },
     "execution_count": 53,
     "metadata": {},
     "output_type": "execute_result"
    }
   ],
   "source": [
    "df.ffill()"
   ]
  },
  {
   "cell_type": "code",
   "execution_count": 54,
   "id": "d269e630-314b-4986-9d95-5a889b636221",
   "metadata": {},
   "outputs": [
    {
     "data": {
      "text/html": [
       "<div>\n",
       "<style scoped>\n",
       "    .dataframe tbody tr th:only-of-type {\n",
       "        vertical-align: middle;\n",
       "    }\n",
       "\n",
       "    .dataframe tbody tr th {\n",
       "        vertical-align: top;\n",
       "    }\n",
       "\n",
       "    .dataframe thead th {\n",
       "        text-align: right;\n",
       "    }\n",
       "</style>\n",
       "<table border=\"1\" class=\"dataframe\">\n",
       "  <thead>\n",
       "    <tr style=\"text-align: right;\">\n",
       "      <th></th>\n",
       "      <th>First Score</th>\n",
       "      <th>Second Score</th>\n",
       "      <th>Third Score</th>\n",
       "      <th>Fourth Score</th>\n",
       "    </tr>\n",
       "  </thead>\n",
       "  <tbody>\n",
       "    <tr>\n",
       "      <th>0</th>\n",
       "      <td>100.0</td>\n",
       "      <td>30.0</td>\n",
       "      <td>52</td>\n",
       "      <td>65.0</td>\n",
       "    </tr>\n",
       "    <tr>\n",
       "      <th>1</th>\n",
       "      <td>90.0</td>\n",
       "      <td>45.0</td>\n",
       "      <td>40</td>\n",
       "      <td>65.0</td>\n",
       "    </tr>\n",
       "    <tr>\n",
       "      <th>2</th>\n",
       "      <td>95.0</td>\n",
       "      <td>45.0</td>\n",
       "      <td>80</td>\n",
       "      <td>65.0</td>\n",
       "    </tr>\n",
       "    <tr>\n",
       "      <th>3</th>\n",
       "      <td>95.0</td>\n",
       "      <td>56.0</td>\n",
       "      <td>98</td>\n",
       "      <td>65.0</td>\n",
       "    </tr>\n",
       "  </tbody>\n",
       "</table>\n",
       "</div>"
      ],
      "text/plain": [
       "   First Score  Second Score  Third Score  Fourth Score\n",
       "0        100.0          30.0           52          65.0\n",
       "1         90.0          45.0           40          65.0\n",
       "2         95.0          45.0           80          65.0\n",
       "3         95.0          56.0           98          65.0"
      ]
     },
     "execution_count": 54,
     "metadata": {},
     "output_type": "execute_result"
    }
   ],
   "source": [
    "df.bfill()"
   ]
  },
  {
   "cell_type": "markdown",
   "id": "4f3e32a5-cc46-4841-a86e-283e0d1c4991",
   "metadata": {},
   "source": [
    "# Drop all rows which contain one or more null values"
   ]
  },
  {
   "cell_type": "code",
   "execution_count": 57,
   "id": "34b24933-b0a0-461c-86f9-9ce567edb48e",
   "metadata": {},
   "outputs": [
    {
     "data": {
      "text/html": [
       "<div>\n",
       "<style scoped>\n",
       "    .dataframe tbody tr th:only-of-type {\n",
       "        vertical-align: middle;\n",
       "    }\n",
       "\n",
       "    .dataframe tbody tr th {\n",
       "        vertical-align: top;\n",
       "    }\n",
       "\n",
       "    .dataframe thead th {\n",
       "        text-align: right;\n",
       "    }\n",
       "</style>\n",
       "<table border=\"1\" class=\"dataframe\">\n",
       "  <thead>\n",
       "    <tr style=\"text-align: right;\">\n",
       "      <th></th>\n",
       "      <th>First Score</th>\n",
       "      <th>Second Score</th>\n",
       "      <th>Third Score</th>\n",
       "      <th>Fourth Score</th>\n",
       "    </tr>\n",
       "  </thead>\n",
       "  <tbody>\n",
       "    <tr>\n",
       "      <th>0</th>\n",
       "      <td>100.0</td>\n",
       "      <td>30.0</td>\n",
       "      <td>52</td>\n",
       "      <td>NaN</td>\n",
       "    </tr>\n",
       "    <tr>\n",
       "      <th>1</th>\n",
       "      <td>90.0</td>\n",
       "      <td>NaN</td>\n",
       "      <td>40</td>\n",
       "      <td>NaN</td>\n",
       "    </tr>\n",
       "    <tr>\n",
       "      <th>2</th>\n",
       "      <td>NaN</td>\n",
       "      <td>45.0</td>\n",
       "      <td>80</td>\n",
       "      <td>NaN</td>\n",
       "    </tr>\n",
       "    <tr>\n",
       "      <th>3</th>\n",
       "      <td>95.0</td>\n",
       "      <td>56.0</td>\n",
       "      <td>98</td>\n",
       "      <td>65.0</td>\n",
       "    </tr>\n",
       "  </tbody>\n",
       "</table>\n",
       "</div>"
      ],
      "text/plain": [
       "   First Score  Second Score  Third Score  Fourth Score\n",
       "0        100.0          30.0           52           NaN\n",
       "1         90.0           NaN           40           NaN\n",
       "2          NaN          45.0           80           NaN\n",
       "3         95.0          56.0           98          65.0"
      ]
     },
     "execution_count": 57,
     "metadata": {},
     "output_type": "execute_result"
    }
   ],
   "source": [
    "dict = {'First Score':[100, 90, np.nan, 95], \n",
    "        'Second Score': [30, np.nan, 45, 56], \n",
    "        'Third Score':[52, 40, 80, 98], \n",
    "        'Fourth Score':[np.nan, np.nan, np.nan, 65]} \n",
    "  \n",
    "# creating a dataframe from dictionary \n",
    "df = pd.DataFrame(dict)\n",
    "df"
   ]
  },
  {
   "cell_type": "code",
   "execution_count": 58,
   "id": "6a52a7c3-0008-42d7-8952-1efe8a9e94ce",
   "metadata": {},
   "outputs": [
    {
     "data": {
      "text/html": [
       "<div>\n",
       "<style scoped>\n",
       "    .dataframe tbody tr th:only-of-type {\n",
       "        vertical-align: middle;\n",
       "    }\n",
       "\n",
       "    .dataframe tbody tr th {\n",
       "        vertical-align: top;\n",
       "    }\n",
       "\n",
       "    .dataframe thead th {\n",
       "        text-align: right;\n",
       "    }\n",
       "</style>\n",
       "<table border=\"1\" class=\"dataframe\">\n",
       "  <thead>\n",
       "    <tr style=\"text-align: right;\">\n",
       "      <th></th>\n",
       "      <th>First Score</th>\n",
       "      <th>Second Score</th>\n",
       "      <th>Third Score</th>\n",
       "      <th>Fourth Score</th>\n",
       "    </tr>\n",
       "  </thead>\n",
       "  <tbody>\n",
       "    <tr>\n",
       "      <th>3</th>\n",
       "      <td>95.0</td>\n",
       "      <td>56.0</td>\n",
       "      <td>98</td>\n",
       "      <td>65.0</td>\n",
       "    </tr>\n",
       "  </tbody>\n",
       "</table>\n",
       "</div>"
      ],
      "text/plain": [
       "   First Score  Second Score  Third Score  Fourth Score\n",
       "3         95.0          56.0           98          65.0"
      ]
     },
     "execution_count": 58,
     "metadata": {},
     "output_type": "execute_result"
    }
   ],
   "source": [
    "df.dropna()"
   ]
  },
  {
   "cell_type": "markdown",
   "id": "65c4da38-d2a8-40a0-9790-18c1e359a869",
   "metadata": {},
   "source": [
    "# Create a new df"
   ]
  },
  {
   "cell_type": "code",
   "execution_count": 61,
   "id": "196e166a-c43e-4ac3-b36b-cd5f4e19c7ce",
   "metadata": {},
   "outputs": [
    {
     "data": {
      "text/html": [
       "<div>\n",
       "<style scoped>\n",
       "    .dataframe tbody tr th:only-of-type {\n",
       "        vertical-align: middle;\n",
       "    }\n",
       "\n",
       "    .dataframe tbody tr th {\n",
       "        vertical-align: top;\n",
       "    }\n",
       "\n",
       "    .dataframe thead th {\n",
       "        text-align: right;\n",
       "    }\n",
       "</style>\n",
       "<table border=\"1\" class=\"dataframe\">\n",
       "  <thead>\n",
       "    <tr style=\"text-align: right;\">\n",
       "      <th></th>\n",
       "      <th>First Score</th>\n",
       "      <th>Second Score</th>\n",
       "      <th>Third Score</th>\n",
       "      <th>Fourth Score</th>\n",
       "    </tr>\n",
       "  </thead>\n",
       "  <tbody>\n",
       "    <tr>\n",
       "      <th>0</th>\n",
       "      <td>100.0</td>\n",
       "      <td>30.0</td>\n",
       "      <td>52.0</td>\n",
       "      <td>NaN</td>\n",
       "    </tr>\n",
       "    <tr>\n",
       "      <th>1</th>\n",
       "      <td>NaN</td>\n",
       "      <td>NaN</td>\n",
       "      <td>NaN</td>\n",
       "      <td>NaN</td>\n",
       "    </tr>\n",
       "    <tr>\n",
       "      <th>2</th>\n",
       "      <td>NaN</td>\n",
       "      <td>45.0</td>\n",
       "      <td>80.0</td>\n",
       "      <td>NaN</td>\n",
       "    </tr>\n",
       "    <tr>\n",
       "      <th>3</th>\n",
       "      <td>95.0</td>\n",
       "      <td>56.0</td>\n",
       "      <td>98.0</td>\n",
       "      <td>65.0</td>\n",
       "    </tr>\n",
       "  </tbody>\n",
       "</table>\n",
       "</div>"
      ],
      "text/plain": [
       "   First Score  Second Score  Third Score  Fourth Score\n",
       "0        100.0          30.0         52.0           NaN\n",
       "1          NaN           NaN          NaN           NaN\n",
       "2          NaN          45.0         80.0           NaN\n",
       "3         95.0          56.0         98.0          65.0"
      ]
     },
     "execution_count": 61,
     "metadata": {},
     "output_type": "execute_result"
    }
   ],
   "source": [
    "# dictionary of lists \n",
    "dict = {'First Score':[100, np.nan, np.nan, 95], \n",
    "        'Second Score': [30, np.nan, 45, 56], \n",
    "        'Third Score':[52, np.nan, 80, 98], \n",
    "        'Fourth Score':[np.nan, np.nan, np.nan, 65]} \n",
    "  \n",
    "# creating a dataframe from dictionary \n",
    "df = pd.DataFrame(dict)\n",
    "df"
   ]
  },
  {
   "cell_type": "markdown",
   "id": "27a351c5-5294-4959-8563-66655369ef86",
   "metadata": {},
   "source": [
    "# Drop all rows which contain all null values"
   ]
  },
  {
   "cell_type": "code",
   "execution_count": 63,
   "id": "63004685-402e-44f4-9528-1cfeedb537f0",
   "metadata": {},
   "outputs": [
    {
     "data": {
      "text/html": [
       "<div>\n",
       "<style scoped>\n",
       "    .dataframe tbody tr th:only-of-type {\n",
       "        vertical-align: middle;\n",
       "    }\n",
       "\n",
       "    .dataframe tbody tr th {\n",
       "        vertical-align: top;\n",
       "    }\n",
       "\n",
       "    .dataframe thead th {\n",
       "        text-align: right;\n",
       "    }\n",
       "</style>\n",
       "<table border=\"1\" class=\"dataframe\">\n",
       "  <thead>\n",
       "    <tr style=\"text-align: right;\">\n",
       "      <th></th>\n",
       "      <th>First Score</th>\n",
       "      <th>Second Score</th>\n",
       "      <th>Third Score</th>\n",
       "      <th>Fourth Score</th>\n",
       "    </tr>\n",
       "  </thead>\n",
       "  <tbody>\n",
       "    <tr>\n",
       "      <th>0</th>\n",
       "      <td>100.0</td>\n",
       "      <td>30.0</td>\n",
       "      <td>52.0</td>\n",
       "      <td>NaN</td>\n",
       "    </tr>\n",
       "    <tr>\n",
       "      <th>2</th>\n",
       "      <td>NaN</td>\n",
       "      <td>45.0</td>\n",
       "      <td>80.0</td>\n",
       "      <td>NaN</td>\n",
       "    </tr>\n",
       "    <tr>\n",
       "      <th>3</th>\n",
       "      <td>95.0</td>\n",
       "      <td>56.0</td>\n",
       "      <td>98.0</td>\n",
       "      <td>65.0</td>\n",
       "    </tr>\n",
       "  </tbody>\n",
       "</table>\n",
       "</div>"
      ],
      "text/plain": [
       "   First Score  Second Score  Third Score  Fourth Score\n",
       "0        100.0          30.0         52.0           NaN\n",
       "2          NaN          45.0         80.0           NaN\n",
       "3         95.0          56.0         98.0          65.0"
      ]
     },
     "execution_count": 63,
     "metadata": {},
     "output_type": "execute_result"
    }
   ],
   "source": [
    "df.dropna(how='all')"
   ]
  },
  {
   "cell_type": "markdown",
   "id": "240db629-e558-414b-9479-52c226a95731",
   "metadata": {},
   "source": [
    "# Create new df"
   ]
  },
  {
   "cell_type": "code",
   "execution_count": 70,
   "id": "eb818dff-c98d-4d29-8cb1-4950a2de2540",
   "metadata": {},
   "outputs": [
    {
     "data": {
      "text/html": [
       "<div>\n",
       "<style scoped>\n",
       "    .dataframe tbody tr th:only-of-type {\n",
       "        vertical-align: middle;\n",
       "    }\n",
       "\n",
       "    .dataframe tbody tr th {\n",
       "        vertical-align: top;\n",
       "    }\n",
       "\n",
       "    .dataframe thead th {\n",
       "        text-align: right;\n",
       "    }\n",
       "</style>\n",
       "<table border=\"1\" class=\"dataframe\">\n",
       "  <thead>\n",
       "    <tr style=\"text-align: right;\">\n",
       "      <th></th>\n",
       "      <th>First Score</th>\n",
       "      <th>Second Score</th>\n",
       "      <th>Third Score</th>\n",
       "      <th>Fourth Score</th>\n",
       "    </tr>\n",
       "  </thead>\n",
       "  <tbody>\n",
       "    <tr>\n",
       "      <th>0</th>\n",
       "      <td>100.0</td>\n",
       "      <td>30.0</td>\n",
       "      <td>52.0</td>\n",
       "      <td>60</td>\n",
       "    </tr>\n",
       "    <tr>\n",
       "      <th>1</th>\n",
       "      <td>NaN</td>\n",
       "      <td>NaN</td>\n",
       "      <td>NaN</td>\n",
       "      <td>67</td>\n",
       "    </tr>\n",
       "    <tr>\n",
       "      <th>2</th>\n",
       "      <td>NaN</td>\n",
       "      <td>45.0</td>\n",
       "      <td>80.0</td>\n",
       "      <td>68</td>\n",
       "    </tr>\n",
       "    <tr>\n",
       "      <th>3</th>\n",
       "      <td>95.0</td>\n",
       "      <td>56.0</td>\n",
       "      <td>98.0</td>\n",
       "      <td>65</td>\n",
       "    </tr>\n",
       "  </tbody>\n",
       "</table>\n",
       "</div>"
      ],
      "text/plain": [
       "   First Score  Second Score  Third Score  Fourth Score\n",
       "0        100.0          30.0         52.0            60\n",
       "1          NaN           NaN          NaN            67\n",
       "2          NaN          45.0         80.0            68\n",
       "3         95.0          56.0         98.0            65"
      ]
     },
     "execution_count": 70,
     "metadata": {},
     "output_type": "execute_result"
    }
   ],
   "source": [
    "# dictionary of lists \n",
    "dict = {'First Score':[100, np.nan, np.nan, 95], \n",
    "        'Second Score': [30, np.nan, 45, 56], \n",
    "        'Third Score':[52, np.nan, 80, 98], \n",
    "        'Fourth Score':[60, 67, 68, 65]} \n",
    "  \n",
    "# creating a dataframe from dictionary  \n",
    "df = pd.DataFrame(dict) \n",
    "     \n",
    "df"
   ]
  },
  {
   "cell_type": "markdown",
   "id": "4f33a6d1-0e3d-431f-94d6-aa94a971dc67",
   "metadata": {},
   "source": [
    "# Drop all rows with any null value on the basis of axis"
   ]
  },
  {
   "cell_type": "code",
   "execution_count": 73,
   "id": "6360cce2-a3c8-4946-9e2f-9c916333492c",
   "metadata": {},
   "outputs": [
    {
     "data": {
      "text/html": [
       "<div>\n",
       "<style scoped>\n",
       "    .dataframe tbody tr th:only-of-type {\n",
       "        vertical-align: middle;\n",
       "    }\n",
       "\n",
       "    .dataframe tbody tr th {\n",
       "        vertical-align: top;\n",
       "    }\n",
       "\n",
       "    .dataframe thead th {\n",
       "        text-align: right;\n",
       "    }\n",
       "</style>\n",
       "<table border=\"1\" class=\"dataframe\">\n",
       "  <thead>\n",
       "    <tr style=\"text-align: right;\">\n",
       "      <th></th>\n",
       "      <th>Fourth Score</th>\n",
       "    </tr>\n",
       "  </thead>\n",
       "  <tbody>\n",
       "    <tr>\n",
       "      <th>0</th>\n",
       "      <td>60</td>\n",
       "    </tr>\n",
       "    <tr>\n",
       "      <th>1</th>\n",
       "      <td>67</td>\n",
       "    </tr>\n",
       "    <tr>\n",
       "      <th>2</th>\n",
       "      <td>68</td>\n",
       "    </tr>\n",
       "    <tr>\n",
       "      <th>3</th>\n",
       "      <td>65</td>\n",
       "    </tr>\n",
       "  </tbody>\n",
       "</table>\n",
       "</div>"
      ],
      "text/plain": [
       "   Fourth Score\n",
       "0            60\n",
       "1            67\n",
       "2            68\n",
       "3            65"
      ]
     },
     "execution_count": 73,
     "metadata": {},
     "output_type": "execute_result"
    }
   ],
   "source": [
    "# dictionary of lists \n",
    "dict = {'First Score':[100, np.nan, np.nan, 95], \n",
    "        'Second Score': [30, np.nan, 45, 56], \n",
    "        'Third Score':[52, np.nan, 80, 98], \n",
    "        'Fourth Score':[60, 67, 68, 65]} \n",
    "  \n",
    "# creating a dataframe from dictionary  \n",
    "df = pd.DataFrame(dict) \n",
    "\n",
    "#using dropna() func\n",
    "df.dropna(axis=1)          # axis =1(columns) , axis=0 (rows)\n"
   ]
  },
  {
   "cell_type": "code",
   "execution_count": 74,
   "id": "83a01c80-2c1e-4280-aec5-a832ad096440",
   "metadata": {},
   "outputs": [
    {
     "data": {
      "text/html": [
       "<div>\n",
       "<style scoped>\n",
       "    .dataframe tbody tr th:only-of-type {\n",
       "        vertical-align: middle;\n",
       "    }\n",
       "\n",
       "    .dataframe tbody tr th {\n",
       "        vertical-align: top;\n",
       "    }\n",
       "\n",
       "    .dataframe thead th {\n",
       "        text-align: right;\n",
       "    }\n",
       "</style>\n",
       "<table border=\"1\" class=\"dataframe\">\n",
       "  <thead>\n",
       "    <tr style=\"text-align: right;\">\n",
       "      <th></th>\n",
       "      <th>First Score</th>\n",
       "      <th>Second Score</th>\n",
       "      <th>Third Score</th>\n",
       "      <th>Fourth Score</th>\n",
       "    </tr>\n",
       "  </thead>\n",
       "  <tbody>\n",
       "    <tr>\n",
       "      <th>0</th>\n",
       "      <td>100.0</td>\n",
       "      <td>30.0</td>\n",
       "      <td>52.0</td>\n",
       "      <td>60</td>\n",
       "    </tr>\n",
       "    <tr>\n",
       "      <th>1</th>\n",
       "      <td>NaN</td>\n",
       "      <td>NaN</td>\n",
       "      <td>NaN</td>\n",
       "      <td>67</td>\n",
       "    </tr>\n",
       "    <tr>\n",
       "      <th>2</th>\n",
       "      <td>NaN</td>\n",
       "      <td>45.0</td>\n",
       "      <td>80.0</td>\n",
       "      <td>68</td>\n",
       "    </tr>\n",
       "    <tr>\n",
       "      <th>3</th>\n",
       "      <td>95.0</td>\n",
       "      <td>56.0</td>\n",
       "      <td>98.0</td>\n",
       "      <td>65</td>\n",
       "    </tr>\n",
       "  </tbody>\n",
       "</table>\n",
       "</div>"
      ],
      "text/plain": [
       "   First Score  Second Score  Third Score  Fourth Score\n",
       "0        100.0          30.0         52.0            60\n",
       "1          NaN           NaN          NaN            67\n",
       "2          NaN          45.0         80.0            68\n",
       "3         95.0          56.0         98.0            65"
      ]
     },
     "execution_count": 74,
     "metadata": {},
     "output_type": "execute_result"
    }
   ],
   "source": [
    "df.dropna(axis=1,how='all')"
   ]
  },
  {
   "cell_type": "code",
   "execution_count": 75,
   "id": "fd421d6c-2bde-4c77-8fad-096d38cf037d",
   "metadata": {},
   "outputs": [
    {
     "data": {
      "text/html": [
       "<div>\n",
       "<style scoped>\n",
       "    .dataframe tbody tr th:only-of-type {\n",
       "        vertical-align: middle;\n",
       "    }\n",
       "\n",
       "    .dataframe tbody tr th {\n",
       "        vertical-align: top;\n",
       "    }\n",
       "\n",
       "    .dataframe thead th {\n",
       "        text-align: right;\n",
       "    }\n",
       "</style>\n",
       "<table border=\"1\" class=\"dataframe\">\n",
       "  <thead>\n",
       "    <tr style=\"text-align: right;\">\n",
       "      <th></th>\n",
       "      <th>First Score</th>\n",
       "      <th>Second Score</th>\n",
       "      <th>Third Score</th>\n",
       "      <th>Fourth Score</th>\n",
       "    </tr>\n",
       "  </thead>\n",
       "  <tbody>\n",
       "    <tr>\n",
       "      <th>0</th>\n",
       "      <td>100.0</td>\n",
       "      <td>30.0</td>\n",
       "      <td>52.0</td>\n",
       "      <td>60</td>\n",
       "    </tr>\n",
       "    <tr>\n",
       "      <th>3</th>\n",
       "      <td>95.0</td>\n",
       "      <td>56.0</td>\n",
       "      <td>98.0</td>\n",
       "      <td>65</td>\n",
       "    </tr>\n",
       "  </tbody>\n",
       "</table>\n",
       "</div>"
      ],
      "text/plain": [
       "   First Score  Second Score  Third Score  Fourth Score\n",
       "0        100.0          30.0         52.0            60\n",
       "3         95.0          56.0         98.0            65"
      ]
     },
     "execution_count": 75,
     "metadata": {},
     "output_type": "execute_result"
    }
   ],
   "source": [
    "df.dropna(axis=0)"
   ]
  },
  {
   "cell_type": "code",
   "execution_count": 76,
   "id": "54b322bc-d6c4-49b1-9897-7180c84b46a6",
   "metadata": {},
   "outputs": [
    {
     "data": {
      "text/html": [
       "<div>\n",
       "<style scoped>\n",
       "    .dataframe tbody tr th:only-of-type {\n",
       "        vertical-align: middle;\n",
       "    }\n",
       "\n",
       "    .dataframe tbody tr th {\n",
       "        vertical-align: top;\n",
       "    }\n",
       "\n",
       "    .dataframe thead th {\n",
       "        text-align: right;\n",
       "    }\n",
       "</style>\n",
       "<table border=\"1\" class=\"dataframe\">\n",
       "  <thead>\n",
       "    <tr style=\"text-align: right;\">\n",
       "      <th></th>\n",
       "      <th>First Score</th>\n",
       "      <th>Second Score</th>\n",
       "      <th>Third Score</th>\n",
       "      <th>Fourth Score</th>\n",
       "    </tr>\n",
       "  </thead>\n",
       "  <tbody>\n",
       "    <tr>\n",
       "      <th>0</th>\n",
       "      <td>100.0</td>\n",
       "      <td>30.0</td>\n",
       "      <td>52.0</td>\n",
       "      <td>60</td>\n",
       "    </tr>\n",
       "    <tr>\n",
       "      <th>1</th>\n",
       "      <td>NaN</td>\n",
       "      <td>NaN</td>\n",
       "      <td>NaN</td>\n",
       "      <td>67</td>\n",
       "    </tr>\n",
       "    <tr>\n",
       "      <th>2</th>\n",
       "      <td>NaN</td>\n",
       "      <td>45.0</td>\n",
       "      <td>80.0</td>\n",
       "      <td>68</td>\n",
       "    </tr>\n",
       "    <tr>\n",
       "      <th>3</th>\n",
       "      <td>95.0</td>\n",
       "      <td>56.0</td>\n",
       "      <td>98.0</td>\n",
       "      <td>65</td>\n",
       "    </tr>\n",
       "  </tbody>\n",
       "</table>\n",
       "</div>"
      ],
      "text/plain": [
       "   First Score  Second Score  Third Score  Fourth Score\n",
       "0        100.0          30.0         52.0            60\n",
       "1          NaN           NaN          NaN            67\n",
       "2          NaN          45.0         80.0            68\n",
       "3         95.0          56.0         98.0            65"
      ]
     },
     "execution_count": 76,
     "metadata": {},
     "output_type": "execute_result"
    }
   ],
   "source": [
    "df.dropna(axis=0,how='all')"
   ]
  },
  {
   "cell_type": "markdown",
   "id": "302994aa-4420-4cc1-ae0a-204d969aa6a2",
   "metadata": {},
   "source": [
    "# Create df"
   ]
  },
  {
   "cell_type": "code",
   "execution_count": 80,
   "id": "30575028-281d-4741-980c-8912daa3d893",
   "metadata": {},
   "outputs": [
    {
     "name": "stdout",
     "output_type": "stream",
     "text": [
      "     stock1    stock2    stock3\n",
      "a -0.420262  0.693424  0.455038\n",
      "b       NaN       NaN       NaN\n",
      "c -1.424154 -0.594937  1.128147\n",
      "d       NaN       NaN       NaN\n",
      "e -0.542163  0.198117 -0.727463\n",
      "f  1.307785 -0.370301  0.464004\n",
      "g       NaN       NaN       NaN\n",
      "h  0.191532  0.993393  2.883558\n"
     ]
    }
   ],
   "source": [
    "dataset = pd.DataFrame(np.random.randn(5,3),\n",
    "                      index=['a','c','e','f','h'],\n",
    "                      columns=['stock1','stock2','stock3'])\n",
    "dataset = dataset.reindex(['a','b','c','d','e','f','g','h'])\n",
    "print(dataset)"
   ]
  },
  {
   "cell_type": "markdown",
   "id": "748d3b0c-c594-412b-95a8-d5cd0b570359",
   "metadata": {},
   "source": [
    "# Checking missing values"
   ]
  },
  {
   "cell_type": "code",
   "execution_count": 83,
   "id": "217f33b8-9c3f-46b4-a6fe-42dfd9d62992",
   "metadata": {},
   "outputs": [
    {
     "data": {
      "text/plain": [
       "3"
      ]
     },
     "execution_count": 83,
     "metadata": {},
     "output_type": "execute_result"
    }
   ],
   "source": [
    "dataset.stock1.isnull().sum()"
   ]
  },
  {
   "cell_type": "code",
   "execution_count": 85,
   "id": "7f95c1ad-748a-4b14-8e46-d7bc1bdc557f",
   "metadata": {},
   "outputs": [
    {
     "data": {
      "text/plain": [
       "9"
      ]
     },
     "execution_count": 85,
     "metadata": {},
     "output_type": "execute_result"
    }
   ],
   "source": [
    "dataset.isnull().sum().sum()"
   ]
  },
  {
   "cell_type": "code",
   "execution_count": 86,
   "id": "6890dcac-c8dd-4d8f-87da-b6dd964bd7c9",
   "metadata": {},
   "outputs": [
    {
     "data": {
      "text/html": [
       "<div>\n",
       "<style scoped>\n",
       "    .dataframe tbody tr th:only-of-type {\n",
       "        vertical-align: middle;\n",
       "    }\n",
       "\n",
       "    .dataframe tbody tr th {\n",
       "        vertical-align: top;\n",
       "    }\n",
       "\n",
       "    .dataframe thead th {\n",
       "        text-align: right;\n",
       "    }\n",
       "</style>\n",
       "<table border=\"1\" class=\"dataframe\">\n",
       "  <thead>\n",
       "    <tr style=\"text-align: right;\">\n",
       "      <th></th>\n",
       "      <th>stock1</th>\n",
       "      <th>stock2</th>\n",
       "      <th>stock3</th>\n",
       "    </tr>\n",
       "  </thead>\n",
       "  <tbody>\n",
       "    <tr>\n",
       "      <th>a</th>\n",
       "      <td>False</td>\n",
       "      <td>False</td>\n",
       "      <td>False</td>\n",
       "    </tr>\n",
       "    <tr>\n",
       "      <th>b</th>\n",
       "      <td>True</td>\n",
       "      <td>True</td>\n",
       "      <td>True</td>\n",
       "    </tr>\n",
       "    <tr>\n",
       "      <th>c</th>\n",
       "      <td>False</td>\n",
       "      <td>False</td>\n",
       "      <td>False</td>\n",
       "    </tr>\n",
       "    <tr>\n",
       "      <th>d</th>\n",
       "      <td>True</td>\n",
       "      <td>True</td>\n",
       "      <td>True</td>\n",
       "    </tr>\n",
       "    <tr>\n",
       "      <th>e</th>\n",
       "      <td>False</td>\n",
       "      <td>False</td>\n",
       "      <td>False</td>\n",
       "    </tr>\n",
       "    <tr>\n",
       "      <th>f</th>\n",
       "      <td>False</td>\n",
       "      <td>False</td>\n",
       "      <td>False</td>\n",
       "    </tr>\n",
       "    <tr>\n",
       "      <th>g</th>\n",
       "      <td>True</td>\n",
       "      <td>True</td>\n",
       "      <td>True</td>\n",
       "    </tr>\n",
       "    <tr>\n",
       "      <th>h</th>\n",
       "      <td>False</td>\n",
       "      <td>False</td>\n",
       "      <td>False</td>\n",
       "    </tr>\n",
       "  </tbody>\n",
       "</table>\n",
       "</div>"
      ],
      "text/plain": [
       "   stock1  stock2  stock3\n",
       "a   False   False   False\n",
       "b    True    True    True\n",
       "c   False   False   False\n",
       "d    True    True    True\n",
       "e   False   False   False\n",
       "f   False   False   False\n",
       "g    True    True    True\n",
       "h   False   False   False"
      ]
     },
     "execution_count": 86,
     "metadata": {},
     "output_type": "execute_result"
    }
   ],
   "source": [
    "dataset.isnull()"
   ]
  },
  {
   "cell_type": "code",
   "execution_count": 87,
   "id": "e21b868f-f503-43a4-a97e-85e75f109286",
   "metadata": {},
   "outputs": [
    {
     "data": {
      "text/plain": [
       "stock1    True\n",
       "stock2    True\n",
       "stock3    True\n",
       "dtype: bool"
      ]
     },
     "execution_count": 87,
     "metadata": {},
     "output_type": "execute_result"
    }
   ],
   "source": [
    "dataset.isnull().any()"
   ]
  },
  {
   "cell_type": "code",
   "execution_count": 88,
   "id": "b249ff13-4516-42d6-a369-03b89e44475e",
   "metadata": {},
   "outputs": [
    {
     "data": {
      "text/plain": [
       "3"
      ]
     },
     "execution_count": 88,
     "metadata": {},
     "output_type": "execute_result"
    }
   ],
   "source": [
    "dataset.isnull().any().sum()"
   ]
  },
  {
   "cell_type": "code",
   "execution_count": 89,
   "id": "5a953444-ac08-4617-b782-f82c177ab92d",
   "metadata": {},
   "outputs": [
    {
     "data": {
      "text/plain": [
       "stock1    3\n",
       "stock2    3\n",
       "stock3    3\n",
       "dtype: int64"
      ]
     },
     "execution_count": 89,
     "metadata": {},
     "output_type": "execute_result"
    }
   ],
   "source": [
    "dataset.isnull().sum()"
   ]
  },
  {
   "cell_type": "code",
   "execution_count": 91,
   "id": "2aba9a70-bf15-44e3-924b-955047e494f1",
   "metadata": {},
   "outputs": [
    {
     "data": {
      "text/html": [
       "<div>\n",
       "<style scoped>\n",
       "    .dataframe tbody tr th:only-of-type {\n",
       "        vertical-align: middle;\n",
       "    }\n",
       "\n",
       "    .dataframe tbody tr th {\n",
       "        vertical-align: top;\n",
       "    }\n",
       "\n",
       "    .dataframe thead th {\n",
       "        text-align: right;\n",
       "    }\n",
       "</style>\n",
       "<table border=\"1\" class=\"dataframe\">\n",
       "  <thead>\n",
       "    <tr style=\"text-align: right;\">\n",
       "      <th></th>\n",
       "      <th>stock1</th>\n",
       "      <th>stock2</th>\n",
       "      <th>stock3</th>\n",
       "    </tr>\n",
       "  </thead>\n",
       "  <tbody>\n",
       "    <tr>\n",
       "      <th>a</th>\n",
       "      <td>True</td>\n",
       "      <td>True</td>\n",
       "      <td>True</td>\n",
       "    </tr>\n",
       "    <tr>\n",
       "      <th>b</th>\n",
       "      <td>False</td>\n",
       "      <td>False</td>\n",
       "      <td>False</td>\n",
       "    </tr>\n",
       "    <tr>\n",
       "      <th>c</th>\n",
       "      <td>True</td>\n",
       "      <td>True</td>\n",
       "      <td>True</td>\n",
       "    </tr>\n",
       "    <tr>\n",
       "      <th>d</th>\n",
       "      <td>False</td>\n",
       "      <td>False</td>\n",
       "      <td>False</td>\n",
       "    </tr>\n",
       "    <tr>\n",
       "      <th>e</th>\n",
       "      <td>True</td>\n",
       "      <td>True</td>\n",
       "      <td>True</td>\n",
       "    </tr>\n",
       "    <tr>\n",
       "      <th>f</th>\n",
       "      <td>True</td>\n",
       "      <td>True</td>\n",
       "      <td>True</td>\n",
       "    </tr>\n",
       "    <tr>\n",
       "      <th>g</th>\n",
       "      <td>False</td>\n",
       "      <td>False</td>\n",
       "      <td>False</td>\n",
       "    </tr>\n",
       "    <tr>\n",
       "      <th>h</th>\n",
       "      <td>True</td>\n",
       "      <td>True</td>\n",
       "      <td>True</td>\n",
       "    </tr>\n",
       "  </tbody>\n",
       "</table>\n",
       "</div>"
      ],
      "text/plain": [
       "   stock1  stock2  stock3\n",
       "a    True    True    True\n",
       "b   False   False   False\n",
       "c    True    True    True\n",
       "d   False   False   False\n",
       "e    True    True    True\n",
       "f    True    True    True\n",
       "g   False   False   False\n",
       "h    True    True    True"
      ]
     },
     "execution_count": 91,
     "metadata": {},
     "output_type": "execute_result"
    }
   ],
   "source": [
    "dataset.notna()"
   ]
  },
  {
   "cell_type": "code",
   "execution_count": 92,
   "id": "0204169c-b7a4-47fc-b305-2e5c4ebb5e25",
   "metadata": {},
   "outputs": [
    {
     "data": {
      "text/html": [
       "<div>\n",
       "<style scoped>\n",
       "    .dataframe tbody tr th:only-of-type {\n",
       "        vertical-align: middle;\n",
       "    }\n",
       "\n",
       "    .dataframe tbody tr th {\n",
       "        vertical-align: top;\n",
       "    }\n",
       "\n",
       "    .dataframe thead th {\n",
       "        text-align: right;\n",
       "    }\n",
       "</style>\n",
       "<table border=\"1\" class=\"dataframe\">\n",
       "  <thead>\n",
       "    <tr style=\"text-align: right;\">\n",
       "      <th></th>\n",
       "      <th>stock1</th>\n",
       "      <th>stock2</th>\n",
       "      <th>stock3</th>\n",
       "    </tr>\n",
       "  </thead>\n",
       "  <tbody>\n",
       "    <tr>\n",
       "      <th>a</th>\n",
       "      <td>True</td>\n",
       "      <td>True</td>\n",
       "      <td>True</td>\n",
       "    </tr>\n",
       "    <tr>\n",
       "      <th>b</th>\n",
       "      <td>False</td>\n",
       "      <td>False</td>\n",
       "      <td>False</td>\n",
       "    </tr>\n",
       "    <tr>\n",
       "      <th>c</th>\n",
       "      <td>True</td>\n",
       "      <td>True</td>\n",
       "      <td>True</td>\n",
       "    </tr>\n",
       "    <tr>\n",
       "      <th>d</th>\n",
       "      <td>False</td>\n",
       "      <td>False</td>\n",
       "      <td>False</td>\n",
       "    </tr>\n",
       "    <tr>\n",
       "      <th>e</th>\n",
       "      <td>True</td>\n",
       "      <td>True</td>\n",
       "      <td>True</td>\n",
       "    </tr>\n",
       "    <tr>\n",
       "      <th>f</th>\n",
       "      <td>True</td>\n",
       "      <td>True</td>\n",
       "      <td>True</td>\n",
       "    </tr>\n",
       "    <tr>\n",
       "      <th>g</th>\n",
       "      <td>False</td>\n",
       "      <td>False</td>\n",
       "      <td>False</td>\n",
       "    </tr>\n",
       "    <tr>\n",
       "      <th>h</th>\n",
       "      <td>True</td>\n",
       "      <td>True</td>\n",
       "      <td>True</td>\n",
       "    </tr>\n",
       "  </tbody>\n",
       "</table>\n",
       "</div>"
      ],
      "text/plain": [
       "   stock1  stock2  stock3\n",
       "a    True    True    True\n",
       "b   False   False   False\n",
       "c    True    True    True\n",
       "d   False   False   False\n",
       "e    True    True    True\n",
       "f    True    True    True\n",
       "g   False   False   False\n",
       "h    True    True    True"
      ]
     },
     "execution_count": 92,
     "metadata": {},
     "output_type": "execute_result"
    }
   ],
   "source": [
    "dataset.notnull()"
   ]
  },
  {
   "cell_type": "code",
   "execution_count": 94,
   "id": "b6ab8694-fe00-4f12-945d-112fcc9ee7c1",
   "metadata": {},
   "outputs": [
    {
     "data": {
      "text/plain": [
       "stock1    5\n",
       "stock2    5\n",
       "stock3    5\n",
       "dtype: int64"
      ]
     },
     "execution_count": 94,
     "metadata": {},
     "output_type": "execute_result"
    }
   ],
   "source": [
    "dataset.notnull().sum()"
   ]
  },
  {
   "cell_type": "markdown",
   "id": "6ccb6786-2c04-40dd-b0da-4fdc66fe1ce5",
   "metadata": {},
   "source": [
    "# Handling missing values"
   ]
  },
  {
   "cell_type": "code",
   "execution_count": 98,
   "id": "49711968-d9d5-430c-8865-c0fc0dd468dc",
   "metadata": {},
   "outputs": [
    {
     "name": "stdout",
     "output_type": "stream",
     "text": [
      "     stock1    stock2    stock3\n",
      "a -0.420262  0.693424  0.455038\n",
      "b       NaN       NaN       NaN\n",
      "c -1.424154 -0.594937  1.128147\n",
      "d       NaN       NaN       NaN\n",
      "e -0.542163  0.198117 -0.727463\n",
      "f  1.307785 -0.370301  0.464004\n",
      "g       NaN       NaN       NaN\n",
      "h  0.191532  0.993393  2.883558\n"
     ]
    }
   ],
   "source": [
    "print(dataset)"
   ]
  },
  {
   "cell_type": "markdown",
   "id": "a9179878-cbac-4c60-97de-d16cb576a4cc",
   "metadata": {},
   "source": [
    "# Replace NAN with scalar value"
   ]
  },
  {
   "cell_type": "code",
   "execution_count": 100,
   "id": "9a2878cc-1cb0-49eb-aa3a-40b940fe6ee0",
   "metadata": {},
   "outputs": [
    {
     "data": {
      "text/html": [
       "<div>\n",
       "<style scoped>\n",
       "    .dataframe tbody tr th:only-of-type {\n",
       "        vertical-align: middle;\n",
       "    }\n",
       "\n",
       "    .dataframe tbody tr th {\n",
       "        vertical-align: top;\n",
       "    }\n",
       "\n",
       "    .dataframe thead th {\n",
       "        text-align: right;\n",
       "    }\n",
       "</style>\n",
       "<table border=\"1\" class=\"dataframe\">\n",
       "  <thead>\n",
       "    <tr style=\"text-align: right;\">\n",
       "      <th></th>\n",
       "      <th>stock1</th>\n",
       "      <th>stock2</th>\n",
       "      <th>stock3</th>\n",
       "    </tr>\n",
       "  </thead>\n",
       "  <tbody>\n",
       "    <tr>\n",
       "      <th>a</th>\n",
       "      <td>-0.420262</td>\n",
       "      <td>0.693424</td>\n",
       "      <td>0.455038</td>\n",
       "    </tr>\n",
       "    <tr>\n",
       "      <th>b</th>\n",
       "      <td>0.000000</td>\n",
       "      <td>0.000000</td>\n",
       "      <td>0.000000</td>\n",
       "    </tr>\n",
       "    <tr>\n",
       "      <th>c</th>\n",
       "      <td>-1.424154</td>\n",
       "      <td>-0.594937</td>\n",
       "      <td>1.128147</td>\n",
       "    </tr>\n",
       "    <tr>\n",
       "      <th>d</th>\n",
       "      <td>0.000000</td>\n",
       "      <td>0.000000</td>\n",
       "      <td>0.000000</td>\n",
       "    </tr>\n",
       "    <tr>\n",
       "      <th>e</th>\n",
       "      <td>-0.542163</td>\n",
       "      <td>0.198117</td>\n",
       "      <td>-0.727463</td>\n",
       "    </tr>\n",
       "    <tr>\n",
       "      <th>f</th>\n",
       "      <td>1.307785</td>\n",
       "      <td>-0.370301</td>\n",
       "      <td>0.464004</td>\n",
       "    </tr>\n",
       "    <tr>\n",
       "      <th>g</th>\n",
       "      <td>0.000000</td>\n",
       "      <td>0.000000</td>\n",
       "      <td>0.000000</td>\n",
       "    </tr>\n",
       "    <tr>\n",
       "      <th>h</th>\n",
       "      <td>0.191532</td>\n",
       "      <td>0.993393</td>\n",
       "      <td>2.883558</td>\n",
       "    </tr>\n",
       "  </tbody>\n",
       "</table>\n",
       "</div>"
      ],
      "text/plain": [
       "     stock1    stock2    stock3\n",
       "a -0.420262  0.693424  0.455038\n",
       "b  0.000000  0.000000  0.000000\n",
       "c -1.424154 -0.594937  1.128147\n",
       "d  0.000000  0.000000  0.000000\n",
       "e -0.542163  0.198117 -0.727463\n",
       "f  1.307785 -0.370301  0.464004\n",
       "g  0.000000  0.000000  0.000000\n",
       "h  0.191532  0.993393  2.883558"
      ]
     },
     "execution_count": 100,
     "metadata": {},
     "output_type": "execute_result"
    }
   ],
   "source": [
    "dataset.fillna(0)"
   ]
  },
  {
   "cell_type": "code",
   "execution_count": 109,
   "id": "0663ffad-22f9-4fc1-9b39-2b2083386e31",
   "metadata": {},
   "outputs": [
    {
     "data": {
      "text/html": [
       "<div>\n",
       "<style scoped>\n",
       "    .dataframe tbody tr th:only-of-type {\n",
       "        vertical-align: middle;\n",
       "    }\n",
       "\n",
       "    .dataframe tbody tr th {\n",
       "        vertical-align: top;\n",
       "    }\n",
       "\n",
       "    .dataframe thead th {\n",
       "        text-align: right;\n",
       "    }\n",
       "</style>\n",
       "<table border=\"1\" class=\"dataframe\">\n",
       "  <thead>\n",
       "    <tr style=\"text-align: right;\">\n",
       "      <th></th>\n",
       "      <th>stock1</th>\n",
       "      <th>stock2</th>\n",
       "      <th>stock3</th>\n",
       "    </tr>\n",
       "  </thead>\n",
       "  <tbody>\n",
       "    <tr>\n",
       "      <th>a</th>\n",
       "      <td>-0.420262</td>\n",
       "      <td>0.693424</td>\n",
       "      <td>0.455038</td>\n",
       "    </tr>\n",
       "    <tr>\n",
       "      <th>b</th>\n",
       "      <td>chanchal</td>\n",
       "      <td>chanchal</td>\n",
       "      <td>chanchal</td>\n",
       "    </tr>\n",
       "    <tr>\n",
       "      <th>c</th>\n",
       "      <td>-1.424154</td>\n",
       "      <td>-0.594937</td>\n",
       "      <td>1.128147</td>\n",
       "    </tr>\n",
       "    <tr>\n",
       "      <th>d</th>\n",
       "      <td>chanchal</td>\n",
       "      <td>chanchal</td>\n",
       "      <td>chanchal</td>\n",
       "    </tr>\n",
       "    <tr>\n",
       "      <th>e</th>\n",
       "      <td>-0.542163</td>\n",
       "      <td>0.198117</td>\n",
       "      <td>-0.727463</td>\n",
       "    </tr>\n",
       "    <tr>\n",
       "      <th>f</th>\n",
       "      <td>1.307785</td>\n",
       "      <td>-0.370301</td>\n",
       "      <td>0.464004</td>\n",
       "    </tr>\n",
       "    <tr>\n",
       "      <th>g</th>\n",
       "      <td>chanchal</td>\n",
       "      <td>chanchal</td>\n",
       "      <td>chanchal</td>\n",
       "    </tr>\n",
       "    <tr>\n",
       "      <th>h</th>\n",
       "      <td>0.191532</td>\n",
       "      <td>0.993393</td>\n",
       "      <td>2.883558</td>\n",
       "    </tr>\n",
       "  </tbody>\n",
       "</table>\n",
       "</div>"
      ],
      "text/plain": [
       "     stock1    stock2    stock3\n",
       "a -0.420262  0.693424  0.455038\n",
       "b  chanchal  chanchal  chanchal\n",
       "c -1.424154 -0.594937  1.128147\n",
       "d  chanchal  chanchal  chanchal\n",
       "e -0.542163  0.198117 -0.727463\n",
       "f  1.307785 -0.370301  0.464004\n",
       "g  chanchal  chanchal  chanchal\n",
       "h  0.191532  0.993393  2.883558"
      ]
     },
     "execution_count": 109,
     "metadata": {},
     "output_type": "execute_result"
    }
   ],
   "source": [
    "dataset.fillna('chanchal')"
   ]
  },
  {
   "cell_type": "markdown",
   "id": "db18d563-70b5-4a53-93d9-0d7de8cb0264",
   "metadata": {},
   "source": [
    "# case1"
   ]
  },
  {
   "cell_type": "code",
   "execution_count": 111,
   "id": "607be7d2-5635-4234-bebf-5afa95990a4a",
   "metadata": {},
   "outputs": [],
   "source": [
    "sales=pd.read_csv('sales.csv')"
   ]
  },
  {
   "cell_type": "code",
   "execution_count": 112,
   "id": "319c723a-0ea6-4830-8f52-13adfbc7ddd2",
   "metadata": {},
   "outputs": [
    {
     "data": {
      "text/html": [
       "<div>\n",
       "<style scoped>\n",
       "    .dataframe tbody tr th:only-of-type {\n",
       "        vertical-align: middle;\n",
       "    }\n",
       "\n",
       "    .dataframe tbody tr th {\n",
       "        vertical-align: top;\n",
       "    }\n",
       "\n",
       "    .dataframe thead th {\n",
       "        text-align: right;\n",
       "    }\n",
       "</style>\n",
       "<table border=\"1\" class=\"dataframe\">\n",
       "  <thead>\n",
       "    <tr style=\"text-align: right;\">\n",
       "      <th></th>\n",
       "      <th>SALES_ID</th>\n",
       "      <th>SALES_BY_REGION</th>\n",
       "      <th>JANUARY</th>\n",
       "      <th>FEBRUARY</th>\n",
       "      <th>MARCH</th>\n",
       "      <th>APRIL</th>\n",
       "      <th>MAY</th>\n",
       "      <th>JUNE</th>\n",
       "      <th>JULY</th>\n",
       "      <th>AUGUST</th>\n",
       "      <th>SEPTEMBER</th>\n",
       "      <th>OCTOBER</th>\n",
       "      <th>NOVEMBER</th>\n",
       "      <th>DECEMBER</th>\n",
       "    </tr>\n",
       "  </thead>\n",
       "  <tbody>\n",
       "    <tr>\n",
       "      <th>0</th>\n",
       "      <td>1</td>\n",
       "      <td>AUH</td>\n",
       "      <td>3,469.00</td>\n",
       "      <td>n.a.</td>\n",
       "      <td>not avilable</td>\n",
       "      <td>3,642.00</td>\n",
       "      <td>5,803.00</td>\n",
       "      <td>5,662.00</td>\n",
       "      <td>1,896.00</td>\n",
       "      <td>2,293.00</td>\n",
       "      <td>2,583.00</td>\n",
       "      <td>5,233.00</td>\n",
       "      <td>4,421.00</td>\n",
       "      <td>4,071.00</td>\n",
       "    </tr>\n",
       "    <tr>\n",
       "      <th>1</th>\n",
       "      <td>1</td>\n",
       "      <td>SHJ</td>\n",
       "      <td>5,840.00</td>\n",
       "      <td>5,270.00</td>\n",
       "      <td>4,114.00</td>\n",
       "      <td>5,605.00</td>\n",
       "      <td>4,387.00</td>\n",
       "      <td>5,026.00</td>\n",
       "      <td>4,055.00</td>\n",
       "      <td>2,782.00</td>\n",
       "      <td>4,578.00</td>\n",
       "      <td>4,993.00</td>\n",
       "      <td>2,859.00</td>\n",
       "      <td>4,853.00</td>\n",
       "    </tr>\n",
       "    <tr>\n",
       "      <th>2</th>\n",
       "      <td>1</td>\n",
       "      <td>-1</td>\n",
       "      <td>2,967.00</td>\n",
       "      <td>2,425.00</td>\n",
       "      <td>5,353.00</td>\n",
       "      <td>n.a.</td>\n",
       "      <td>5,027.00</td>\n",
       "      <td>4,078.00</td>\n",
       "      <td>3,858.00</td>\n",
       "      <td>1,927.00</td>\n",
       "      <td>3,527.00</td>\n",
       "      <td>4,179.00</td>\n",
       "      <td>1,571.00</td>\n",
       "      <td>5,551.00</td>\n",
       "    </tr>\n",
       "    <tr>\n",
       "      <th>3</th>\n",
       "      <td>2</td>\n",
       "      <td>AUH</td>\n",
       "      <td>1,328.00</td>\n",
       "      <td>-1</td>\n",
       "      <td>1,574.00</td>\n",
       "      <td>2,343.00</td>\n",
       "      <td>3,826.00</td>\n",
       "      <td>4,932.00</td>\n",
       "      <td>1,710.00</td>\n",
       "      <td>3,221.00</td>\n",
       "      <td>3,381.00</td>\n",
       "      <td>1,313.00</td>\n",
       "      <td>1,765.00</td>\n",
       "      <td>1,214.00</td>\n",
       "    </tr>\n",
       "    <tr>\n",
       "      <th>4</th>\n",
       "      <td>3</td>\n",
       "      <td>SHJ</td>\n",
       "      <td>2,473.00</td>\n",
       "      <td>1,421.00</td>\n",
       "      <td>3,606.00</td>\n",
       "      <td>1,314.00</td>\n",
       "      <td>1,413.00</td>\n",
       "      <td>2,091.00</td>\n",
       "      <td>3,270.00</td>\n",
       "      <td>3,346.00</td>\n",
       "      <td>2,080.00</td>\n",
       "      <td>1,539.00</td>\n",
       "      <td>2,630.00</td>\n",
       "      <td>1,697.00</td>\n",
       "    </tr>\n",
       "    <tr>\n",
       "      <th>...</th>\n",
       "      <td>...</td>\n",
       "      <td>...</td>\n",
       "      <td>...</td>\n",
       "      <td>...</td>\n",
       "      <td>...</td>\n",
       "      <td>...</td>\n",
       "      <td>...</td>\n",
       "      <td>...</td>\n",
       "      <td>...</td>\n",
       "      <td>...</td>\n",
       "      <td>...</td>\n",
       "      <td>...</td>\n",
       "      <td>...</td>\n",
       "      <td>...</td>\n",
       "    </tr>\n",
       "    <tr>\n",
       "      <th>93</th>\n",
       "      <td>29</td>\n",
       "      <td>FUJ</td>\n",
       "      <td>2,492.00</td>\n",
       "      <td>1,833.00</td>\n",
       "      <td>2,982.00</td>\n",
       "      <td>4,292.00</td>\n",
       "      <td>5,540.00</td>\n",
       "      <td>5,847.00</td>\n",
       "      <td>909</td>\n",
       "      <td>2,339.00</td>\n",
       "      <td>4,868.00</td>\n",
       "      <td>5,207.00</td>\n",
       "      <td>5,938.00</td>\n",
       "      <td>1,793.00</td>\n",
       "    </tr>\n",
       "    <tr>\n",
       "      <th>94</th>\n",
       "      <td>30</td>\n",
       "      <td>AJM</td>\n",
       "      <td>2,832.00</td>\n",
       "      <td>5,978.00</td>\n",
       "      <td>1,684.00</td>\n",
       "      <td>1,550.00</td>\n",
       "      <td>1,194.00</td>\n",
       "      <td>3,737.00</td>\n",
       "      <td>5,779.00</td>\n",
       "      <td>4,441.00</td>\n",
       "      <td>1,213.00</td>\n",
       "      <td>3,711.00</td>\n",
       "      <td>5,384.00</td>\n",
       "      <td>1,293.00</td>\n",
       "    </tr>\n",
       "    <tr>\n",
       "      <th>95</th>\n",
       "      <td>30</td>\n",
       "      <td>FUJ</td>\n",
       "      <td>3,402.00</td>\n",
       "      <td>5,283.00</td>\n",
       "      <td>2,229.00</td>\n",
       "      <td>3,758.00</td>\n",
       "      <td>1,427.00</td>\n",
       "      <td>1,057.00</td>\n",
       "      <td>5,277.00</td>\n",
       "      <td>5,231.00</td>\n",
       "      <td>3,909.00</td>\n",
       "      <td>4,345.00</td>\n",
       "      <td>5,287.00</td>\n",
       "      <td>2,638.00</td>\n",
       "    </tr>\n",
       "    <tr>\n",
       "      <th>96</th>\n",
       "      <td>30</td>\n",
       "      <td>AJM</td>\n",
       "      <td>2,028.00</td>\n",
       "      <td>2,006.00</td>\n",
       "      <td>5,120.00</td>\n",
       "      <td>5,959.00</td>\n",
       "      <td>3,127.00</td>\n",
       "      <td>3,962.00</td>\n",
       "      <td>4,780.00</td>\n",
       "      <td>3,200.00</td>\n",
       "      <td>1,836.00</td>\n",
       "      <td>2,623.00</td>\n",
       "      <td>1,607.00</td>\n",
       "      <td>2,371.00</td>\n",
       "    </tr>\n",
       "    <tr>\n",
       "      <th>97</th>\n",
       "      <td>30</td>\n",
       "      <td>FUJ</td>\n",
       "      <td>5,549.00</td>\n",
       "      <td>1,302.00</td>\n",
       "      <td>1,929.00</td>\n",
       "      <td>2,822.00</td>\n",
       "      <td>5,379.00</td>\n",
       "      <td>1,243.00</td>\n",
       "      <td>3,075.00</td>\n",
       "      <td>4,358.00</td>\n",
       "      <td>5,106.00</td>\n",
       "      <td>2,322.00</td>\n",
       "      <td>2,409.00</td>\n",
       "      <td>1,069.00</td>\n",
       "    </tr>\n",
       "  </tbody>\n",
       "</table>\n",
       "<p>98 rows × 14 columns</p>\n",
       "</div>"
      ],
      "text/plain": [
       "    SALES_ID SALES_BY_REGION   JANUARY  FEBRUARY         MARCH     APRIL  \\\n",
       "0          1             AUH  3,469.00      n.a.  not avilable  3,642.00   \n",
       "1          1             SHJ  5,840.00  5,270.00      4,114.00  5,605.00   \n",
       "2          1              -1  2,967.00  2,425.00      5,353.00      n.a.   \n",
       "3          2             AUH  1,328.00        -1      1,574.00  2,343.00   \n",
       "4          3             SHJ  2,473.00  1,421.00      3,606.00  1,314.00   \n",
       "..       ...             ...       ...       ...           ...       ...   \n",
       "93        29             FUJ  2,492.00  1,833.00      2,982.00  4,292.00   \n",
       "94        30             AJM  2,832.00  5,978.00      1,684.00  1,550.00   \n",
       "95        30             FUJ  3,402.00  5,283.00      2,229.00  3,758.00   \n",
       "96        30             AJM  2,028.00  2,006.00      5,120.00  5,959.00   \n",
       "97        30             FUJ  5,549.00  1,302.00      1,929.00  2,822.00   \n",
       "\n",
       "         MAY      JUNE      JULY    AUGUST SEPTEMBER   OCTOBER  NOVEMBER  \\\n",
       "0   5,803.00  5,662.00  1,896.00  2,293.00  2,583.00  5,233.00  4,421.00   \n",
       "1   4,387.00  5,026.00  4,055.00  2,782.00  4,578.00  4,993.00  2,859.00   \n",
       "2   5,027.00  4,078.00  3,858.00  1,927.00  3,527.00  4,179.00  1,571.00   \n",
       "3   3,826.00  4,932.00  1,710.00  3,221.00  3,381.00  1,313.00  1,765.00   \n",
       "4   1,413.00  2,091.00  3,270.00  3,346.00  2,080.00  1,539.00  2,630.00   \n",
       "..       ...       ...       ...       ...       ...       ...       ...   \n",
       "93  5,540.00  5,847.00       909  2,339.00  4,868.00  5,207.00  5,938.00   \n",
       "94  1,194.00  3,737.00  5,779.00  4,441.00  1,213.00  3,711.00  5,384.00   \n",
       "95  1,427.00  1,057.00  5,277.00  5,231.00  3,909.00  4,345.00  5,287.00   \n",
       "96  3,127.00  3,962.00  4,780.00  3,200.00  1,836.00  2,623.00  1,607.00   \n",
       "97  5,379.00  1,243.00  3,075.00  4,358.00  5,106.00  2,322.00  2,409.00   \n",
       "\n",
       "    DECEMBER  \n",
       "0   4,071.00  \n",
       "1   4,853.00  \n",
       "2   5,551.00  \n",
       "3   1,214.00  \n",
       "4   1,697.00  \n",
       "..       ...  \n",
       "93  1,793.00  \n",
       "94  1,293.00  \n",
       "95  2,638.00  \n",
       "96  2,371.00  \n",
       "97  1,069.00  \n",
       "\n",
       "[98 rows x 14 columns]"
      ]
     },
     "execution_count": 112,
     "metadata": {},
     "output_type": "execute_result"
    }
   ],
   "source": [
    "sales"
   ]
  },
  {
   "cell_type": "code",
   "execution_count": 113,
   "id": "a7643948-6829-4b57-8277-efdb3df0fecf",
   "metadata": {},
   "outputs": [
    {
     "data": {
      "text/html": [
       "<div>\n",
       "<style scoped>\n",
       "    .dataframe tbody tr th:only-of-type {\n",
       "        vertical-align: middle;\n",
       "    }\n",
       "\n",
       "    .dataframe tbody tr th {\n",
       "        vertical-align: top;\n",
       "    }\n",
       "\n",
       "    .dataframe thead th {\n",
       "        text-align: right;\n",
       "    }\n",
       "</style>\n",
       "<table border=\"1\" class=\"dataframe\">\n",
       "  <thead>\n",
       "    <tr style=\"text-align: right;\">\n",
       "      <th></th>\n",
       "      <th>SALES_ID</th>\n",
       "      <th>SALES_BY_REGION</th>\n",
       "      <th>JANUARY</th>\n",
       "      <th>FEBRUARY</th>\n",
       "      <th>MARCH</th>\n",
       "      <th>APRIL</th>\n",
       "      <th>MAY</th>\n",
       "      <th>JUNE</th>\n",
       "      <th>JULY</th>\n",
       "      <th>AUGUST</th>\n",
       "      <th>SEPTEMBER</th>\n",
       "      <th>OCTOBER</th>\n",
       "      <th>NOVEMBER</th>\n",
       "      <th>DECEMBER</th>\n",
       "    </tr>\n",
       "  </thead>\n",
       "  <tbody>\n",
       "    <tr>\n",
       "      <th>0</th>\n",
       "      <td>False</td>\n",
       "      <td>False</td>\n",
       "      <td>False</td>\n",
       "      <td>False</td>\n",
       "      <td>False</td>\n",
       "      <td>False</td>\n",
       "      <td>False</td>\n",
       "      <td>False</td>\n",
       "      <td>False</td>\n",
       "      <td>False</td>\n",
       "      <td>False</td>\n",
       "      <td>False</td>\n",
       "      <td>False</td>\n",
       "      <td>False</td>\n",
       "    </tr>\n",
       "    <tr>\n",
       "      <th>1</th>\n",
       "      <td>False</td>\n",
       "      <td>False</td>\n",
       "      <td>False</td>\n",
       "      <td>False</td>\n",
       "      <td>False</td>\n",
       "      <td>False</td>\n",
       "      <td>False</td>\n",
       "      <td>False</td>\n",
       "      <td>False</td>\n",
       "      <td>False</td>\n",
       "      <td>False</td>\n",
       "      <td>False</td>\n",
       "      <td>False</td>\n",
       "      <td>False</td>\n",
       "    </tr>\n",
       "    <tr>\n",
       "      <th>2</th>\n",
       "      <td>False</td>\n",
       "      <td>False</td>\n",
       "      <td>False</td>\n",
       "      <td>False</td>\n",
       "      <td>False</td>\n",
       "      <td>False</td>\n",
       "      <td>False</td>\n",
       "      <td>False</td>\n",
       "      <td>False</td>\n",
       "      <td>False</td>\n",
       "      <td>False</td>\n",
       "      <td>False</td>\n",
       "      <td>False</td>\n",
       "      <td>False</td>\n",
       "    </tr>\n",
       "    <tr>\n",
       "      <th>3</th>\n",
       "      <td>False</td>\n",
       "      <td>False</td>\n",
       "      <td>False</td>\n",
       "      <td>False</td>\n",
       "      <td>False</td>\n",
       "      <td>False</td>\n",
       "      <td>False</td>\n",
       "      <td>False</td>\n",
       "      <td>False</td>\n",
       "      <td>False</td>\n",
       "      <td>False</td>\n",
       "      <td>False</td>\n",
       "      <td>False</td>\n",
       "      <td>False</td>\n",
       "    </tr>\n",
       "    <tr>\n",
       "      <th>4</th>\n",
       "      <td>False</td>\n",
       "      <td>False</td>\n",
       "      <td>False</td>\n",
       "      <td>False</td>\n",
       "      <td>False</td>\n",
       "      <td>False</td>\n",
       "      <td>False</td>\n",
       "      <td>False</td>\n",
       "      <td>False</td>\n",
       "      <td>False</td>\n",
       "      <td>False</td>\n",
       "      <td>False</td>\n",
       "      <td>False</td>\n",
       "      <td>False</td>\n",
       "    </tr>\n",
       "    <tr>\n",
       "      <th>...</th>\n",
       "      <td>...</td>\n",
       "      <td>...</td>\n",
       "      <td>...</td>\n",
       "      <td>...</td>\n",
       "      <td>...</td>\n",
       "      <td>...</td>\n",
       "      <td>...</td>\n",
       "      <td>...</td>\n",
       "      <td>...</td>\n",
       "      <td>...</td>\n",
       "      <td>...</td>\n",
       "      <td>...</td>\n",
       "      <td>...</td>\n",
       "      <td>...</td>\n",
       "    </tr>\n",
       "    <tr>\n",
       "      <th>93</th>\n",
       "      <td>False</td>\n",
       "      <td>False</td>\n",
       "      <td>False</td>\n",
       "      <td>False</td>\n",
       "      <td>False</td>\n",
       "      <td>False</td>\n",
       "      <td>False</td>\n",
       "      <td>False</td>\n",
       "      <td>False</td>\n",
       "      <td>False</td>\n",
       "      <td>False</td>\n",
       "      <td>False</td>\n",
       "      <td>False</td>\n",
       "      <td>False</td>\n",
       "    </tr>\n",
       "    <tr>\n",
       "      <th>94</th>\n",
       "      <td>False</td>\n",
       "      <td>False</td>\n",
       "      <td>False</td>\n",
       "      <td>False</td>\n",
       "      <td>False</td>\n",
       "      <td>False</td>\n",
       "      <td>False</td>\n",
       "      <td>False</td>\n",
       "      <td>False</td>\n",
       "      <td>False</td>\n",
       "      <td>False</td>\n",
       "      <td>False</td>\n",
       "      <td>False</td>\n",
       "      <td>False</td>\n",
       "    </tr>\n",
       "    <tr>\n",
       "      <th>95</th>\n",
       "      <td>False</td>\n",
       "      <td>False</td>\n",
       "      <td>False</td>\n",
       "      <td>False</td>\n",
       "      <td>False</td>\n",
       "      <td>False</td>\n",
       "      <td>False</td>\n",
       "      <td>False</td>\n",
       "      <td>False</td>\n",
       "      <td>False</td>\n",
       "      <td>False</td>\n",
       "      <td>False</td>\n",
       "      <td>False</td>\n",
       "      <td>False</td>\n",
       "    </tr>\n",
       "    <tr>\n",
       "      <th>96</th>\n",
       "      <td>False</td>\n",
       "      <td>False</td>\n",
       "      <td>False</td>\n",
       "      <td>False</td>\n",
       "      <td>False</td>\n",
       "      <td>False</td>\n",
       "      <td>False</td>\n",
       "      <td>False</td>\n",
       "      <td>False</td>\n",
       "      <td>False</td>\n",
       "      <td>False</td>\n",
       "      <td>False</td>\n",
       "      <td>False</td>\n",
       "      <td>False</td>\n",
       "    </tr>\n",
       "    <tr>\n",
       "      <th>97</th>\n",
       "      <td>False</td>\n",
       "      <td>False</td>\n",
       "      <td>False</td>\n",
       "      <td>False</td>\n",
       "      <td>False</td>\n",
       "      <td>False</td>\n",
       "      <td>False</td>\n",
       "      <td>False</td>\n",
       "      <td>False</td>\n",
       "      <td>False</td>\n",
       "      <td>False</td>\n",
       "      <td>False</td>\n",
       "      <td>False</td>\n",
       "      <td>False</td>\n",
       "    </tr>\n",
       "  </tbody>\n",
       "</table>\n",
       "<p>98 rows × 14 columns</p>\n",
       "</div>"
      ],
      "text/plain": [
       "    SALES_ID  SALES_BY_REGION  JANUARY  FEBRUARY  MARCH  APRIL    MAY   JUNE  \\\n",
       "0      False            False    False     False  False  False  False  False   \n",
       "1      False            False    False     False  False  False  False  False   \n",
       "2      False            False    False     False  False  False  False  False   \n",
       "3      False            False    False     False  False  False  False  False   \n",
       "4      False            False    False     False  False  False  False  False   \n",
       "..       ...              ...      ...       ...    ...    ...    ...    ...   \n",
       "93     False            False    False     False  False  False  False  False   \n",
       "94     False            False    False     False  False  False  False  False   \n",
       "95     False            False    False     False  False  False  False  False   \n",
       "96     False            False    False     False  False  False  False  False   \n",
       "97     False            False    False     False  False  False  False  False   \n",
       "\n",
       "     JULY  AUGUST  SEPTEMBER  OCTOBER  NOVEMBER  DECEMBER  \n",
       "0   False   False      False    False     False     False  \n",
       "1   False   False      False    False     False     False  \n",
       "2   False   False      False    False     False     False  \n",
       "3   False   False      False    False     False     False  \n",
       "4   False   False      False    False     False     False  \n",
       "..    ...     ...        ...      ...       ...       ...  \n",
       "93  False   False      False    False     False     False  \n",
       "94  False   False      False    False     False     False  \n",
       "95  False   False      False    False     False     False  \n",
       "96  False   False      False    False     False     False  \n",
       "97  False   False      False    False     False     False  \n",
       "\n",
       "[98 rows x 14 columns]"
      ]
     },
     "execution_count": 113,
     "metadata": {},
     "output_type": "execute_result"
    }
   ],
   "source": [
    "sales.isna()"
   ]
  },
  {
   "cell_type": "code",
   "execution_count": 114,
   "id": "3abde114-7213-453a-9990-6f379420280a",
   "metadata": {},
   "outputs": [
    {
     "name": "stdout",
     "output_type": "stream",
     "text": [
      "<class 'pandas.core.frame.DataFrame'>\n",
      "RangeIndex: 98 entries, 0 to 97\n",
      "Data columns (total 14 columns):\n",
      " #   Column           Non-Null Count  Dtype \n",
      "---  ------           --------------  ----- \n",
      " 0   SALES_ID         98 non-null     int64 \n",
      " 1   SALES_BY_REGION  98 non-null     object\n",
      " 2   JANUARY          98 non-null     object\n",
      " 3   FEBRUARY         98 non-null     object\n",
      " 4   MARCH            98 non-null     object\n",
      " 5   APRIL            98 non-null     object\n",
      " 6   MAY              98 non-null     object\n",
      " 7   JUNE             98 non-null     object\n",
      " 8   JULY             98 non-null     object\n",
      " 9   AUGUST           98 non-null     object\n",
      " 10  SEPTEMBER        98 non-null     object\n",
      " 11  OCTOBER          98 non-null     object\n",
      " 12  NOVEMBER         98 non-null     object\n",
      " 13  DECEMBER         98 non-null     object\n",
      "dtypes: int64(1), object(13)\n",
      "memory usage: 10.8+ KB\n"
     ]
    }
   ],
   "source": [
    "sales.info()"
   ]
  },
  {
   "cell_type": "code",
   "execution_count": 115,
   "id": "6a8c350a-de3a-4237-8aae-0dd13a96dbc5",
   "metadata": {},
   "outputs": [
    {
     "data": {
      "text/plain": [
       "SALES_ID           0\n",
       "SALES_BY_REGION    0\n",
       "JANUARY            0\n",
       "FEBRUARY           0\n",
       "MARCH              0\n",
       "APRIL              0\n",
       "MAY                0\n",
       "JUNE               0\n",
       "JULY               0\n",
       "AUGUST             0\n",
       "SEPTEMBER          0\n",
       "OCTOBER            0\n",
       "NOVEMBER           0\n",
       "DECEMBER           0\n",
       "dtype: int64"
      ]
     },
     "execution_count": 115,
     "metadata": {},
     "output_type": "execute_result"
    }
   ],
   "source": [
    "sales.isna().sum()"
   ]
  },
  {
   "cell_type": "code",
   "execution_count": 117,
   "id": "a57cbe33-d904-46a6-aba8-789e35cf38bb",
   "metadata": {},
   "outputs": [
    {
     "data": {
      "text/plain": [
       "0"
      ]
     },
     "execution_count": 117,
     "metadata": {},
     "output_type": "execute_result"
    }
   ],
   "source": [
    "sales.isna().sum().sum()"
   ]
  },
  {
   "cell_type": "code",
   "execution_count": 118,
   "id": "6be0eedd-38ea-44ad-b261-ad9e22b0c3e8",
   "metadata": {},
   "outputs": [
    {
     "data": {
      "text/plain": [
       "SALES_BY_REGION\n",
       "AJM             20\n",
       "SHJ             15\n",
       "FUJ             15\n",
       "DXB             15\n",
       "AUH             13\n",
       "RAK              9\n",
       "UAQ              8\n",
       "-1               2\n",
       "not avilable     1\n",
       "Name: count, dtype: int64"
      ]
     },
     "execution_count": 118,
     "metadata": {},
     "output_type": "execute_result"
    }
   ],
   "source": [
    "sales.SALES_BY_REGION.value_counts()"
   ]
  },
  {
   "cell_type": "code",
   "execution_count": 120,
   "id": "9a68e52d-7915-4e9a-878d-e902315a07f9",
   "metadata": {},
   "outputs": [
    {
     "data": {
      "text/plain": [
       "JANUARY\n",
       "n.a.        4\n",
       "-1          2\n",
       "3,469.00    1\n",
       "4,275.00    1\n",
       "3,435.00    1\n",
       "           ..\n",
       "4,075.00    1\n",
       "5,782.00    1\n",
       "5,172.00    1\n",
       "1,614.00    1\n",
       "5,549.00    1\n",
       "Name: count, Length: 94, dtype: int64"
      ]
     },
     "execution_count": 120,
     "metadata": {},
     "output_type": "execute_result"
    }
   ],
   "source": [
    "sales.JANUARY.value_counts()"
   ]
  },
  {
   "cell_type": "code",
   "execution_count": 121,
   "id": "6406ccda-cb76-418c-a305-efee64e24810",
   "metadata": {},
   "outputs": [
    {
     "data": {
      "text/plain": [
       "FEBRUARY\n",
       "1,397.00    2\n",
       "n.a.        1\n",
       "5,226.00    1\n",
       "5,624.00    1\n",
       "4,180.00    1\n",
       "           ..\n",
       "3,164.00    1\n",
       "3,173.00    1\n",
       "1,537.00    1\n",
       "4,640.00    1\n",
       "1,302.00    1\n",
       "Name: count, Length: 97, dtype: int64"
      ]
     },
     "execution_count": 121,
     "metadata": {},
     "output_type": "execute_result"
    }
   ],
   "source": [
    "sales.FEBRUARY.value_counts()"
   ]
  },
  {
   "cell_type": "code",
   "execution_count": 123,
   "id": "55137290-65c1-40f6-a40c-44414a095dc4",
   "metadata": {},
   "outputs": [
    {
     "data": {
      "text/plain": [
       "MARCH\n",
       "n.a.        2\n",
       "3,981.00    2\n",
       "1,887.00    1\n",
       "3,133.00    1\n",
       "1,798.00    1\n",
       "           ..\n",
       "930         1\n",
       "3,093.00    1\n",
       "1,576.00    1\n",
       "2,336.00    1\n",
       "1,929.00    1\n",
       "Name: count, Length: 96, dtype: int64"
      ]
     },
     "execution_count": 123,
     "metadata": {},
     "output_type": "execute_result"
    }
   ],
   "source": [
    "sales.MARCH.value_counts()"
   ]
  },
  {
   "cell_type": "code",
   "execution_count": 124,
   "id": "360c1c14-9bc3-4b41-a178-453e702cdfba",
   "metadata": {},
   "outputs": [
    {
     "data": {
      "text/plain": [
       "APRIL\n",
       "4,715.00    2\n",
       "3,642.00    1\n",
       "1,355.00    1\n",
       "1,018.00    1\n",
       "3,803.00    1\n",
       "           ..\n",
       "1,994.00    1\n",
       "2,592.00    1\n",
       "4,525.00    1\n",
       "5,531.00    1\n",
       "2,822.00    1\n",
       "Name: count, Length: 97, dtype: int64"
      ]
     },
     "execution_count": 124,
     "metadata": {},
     "output_type": "execute_result"
    }
   ],
   "source": [
    "sales.APRIL.value_counts()"
   ]
  },
  {
   "cell_type": "code",
   "execution_count": 125,
   "id": "f09cd9ee-4460-4f07-97d5-14ba0620b8ae",
   "metadata": {},
   "outputs": [
    {
     "data": {
      "text/plain": [
       "MAY\n",
       "5,803.00    1\n",
       "938         1\n",
       "4,830.00    1\n",
       "4,870.00    1\n",
       "2,770.00    1\n",
       "           ..\n",
       "1,924.00    1\n",
       "3,592.00    1\n",
       "3,747.00    1\n",
       "1,483.00    1\n",
       "5,379.00    1\n",
       "Name: count, Length: 98, dtype: int64"
      ]
     },
     "execution_count": 125,
     "metadata": {},
     "output_type": "execute_result"
    }
   ],
   "source": [
    "sales.MAY.value_counts()"
   ]
  },
  {
   "cell_type": "code",
   "execution_count": 126,
   "id": "f999975d-b503-4a12-b2fb-d88168d11a8f",
   "metadata": {},
   "outputs": [
    {
     "data": {
      "text/plain": [
       "JUNE\n",
       "3,074.00    2\n",
       "n.a.        2\n",
       "5,662.00    1\n",
       "3,739.00    1\n",
       "4,805.00    1\n",
       "           ..\n",
       "5,040.00    1\n",
       "5,357.00    1\n",
       "3,300.00    1\n",
       "2,202.00    1\n",
       "1,243.00    1\n",
       "Name: count, Length: 96, dtype: int64"
      ]
     },
     "execution_count": 126,
     "metadata": {},
     "output_type": "execute_result"
    }
   ],
   "source": [
    "sales.JUNE.value_counts()"
   ]
  },
  {
   "cell_type": "code",
   "execution_count": 127,
   "id": "3cff187b-7c16-4456-bded-9deea48de8a0",
   "metadata": {},
   "outputs": [
    {
     "data": {
      "text/plain": [
       "JULY\n",
       "3,270.00    2\n",
       "1,101.00    2\n",
       "1,896.00    1\n",
       "3,221.00    1\n",
       "2,084.00    1\n",
       "           ..\n",
       "1,973.00    1\n",
       "3,371.00    1\n",
       "2,283.00    1\n",
       "2,015.00    1\n",
       "3,075.00    1\n",
       "Name: count, Length: 96, dtype: int64"
      ]
     },
     "execution_count": 127,
     "metadata": {},
     "output_type": "execute_result"
    }
   ],
   "source": [
    "sales.JULY.value_counts()"
   ]
  },
  {
   "cell_type": "code",
   "execution_count": 129,
   "id": "3f8ba2cd-eddd-40ac-955c-b794018eeff9",
   "metadata": {},
   "outputs": [
    {
     "data": {
      "text/plain": [
       "AUGUST\n",
       "3,221.00    2\n",
       "n.a.        2\n",
       "2,293.00    1\n",
       "3,388.00    1\n",
       "3,924.00    1\n",
       "           ..\n",
       "3,054.00    1\n",
       "3,972.00    1\n",
       "5,250.00    1\n",
       "2,671.00    1\n",
       "4,358.00    1\n",
       "Name: count, Length: 96, dtype: int64"
      ]
     },
     "execution_count": 129,
     "metadata": {},
     "output_type": "execute_result"
    }
   ],
   "source": [
    "sales.AUGUST.value_counts()"
   ]
  },
  {
   "cell_type": "code",
   "execution_count": 130,
   "id": "633cd556-083a-4daf-88ae-89571a543b75",
   "metadata": {},
   "outputs": [
    {
     "data": {
      "text/plain": [
       "SEPTEMBER\n",
       "4,578.00    2\n",
       "4,310.00    1\n",
       "4,298.00    1\n",
       "989         1\n",
       "2,807.00    1\n",
       "           ..\n",
       "1,550.00    1\n",
       "1,918.00    1\n",
       "5,529.00    1\n",
       "3,785.00    1\n",
       "5,106.00    1\n",
       "Name: count, Length: 97, dtype: int64"
      ]
     },
     "execution_count": 130,
     "metadata": {},
     "output_type": "execute_result"
    }
   ],
   "source": [
    "sales.SEPTEMBER.value_counts()"
   ]
  },
  {
   "cell_type": "code",
   "execution_count": 137,
   "id": "bd66a87d-e71d-4f47-a53b-2bec8b061e71",
   "metadata": {},
   "outputs": [
    {
     "data": {
      "text/plain": [
       "OCTOBER\n",
       "1,110.00    2\n",
       "1,500.00    2\n",
       "5,233.00    1\n",
       "5,736.00    1\n",
       "3,482.00    1\n",
       "           ..\n",
       "1,804.00    1\n",
       "2,449.00    1\n",
       "5,942.00    1\n",
       "4,173.00    1\n",
       "2,322.00    1\n",
       "Name: count, Length: 96, dtype: int64"
      ]
     },
     "execution_count": 137,
     "metadata": {},
     "output_type": "execute_result"
    }
   ],
   "source": [
    "sales.OCTOBER.value_counts()"
   ]
  },
  {
   "cell_type": "code",
   "execution_count": 146,
   "id": "526cc9a6-a141-4550-a4f9-bda09020a17d",
   "metadata": {},
   "outputs": [
    {
     "data": {
      "text/plain": [
       "NOVEMBER\n",
       "4,969.00    2\n",
       "4,421.00    1\n",
       "5,559.00    1\n",
       "2,006.00    1\n",
       "3,999.00    1\n",
       "           ..\n",
       "1,656.00    1\n",
       "1,531.00    1\n",
       "901         1\n",
       "5,686.00    1\n",
       "2,409.00    1\n",
       "Name: count, Length: 97, dtype: int64"
      ]
     },
     "execution_count": 146,
     "metadata": {},
     "output_type": "execute_result"
    }
   ],
   "source": [
    "sales.NOVEMBER.value_counts()"
   ]
  },
  {
   "cell_type": "code",
   "execution_count": 148,
   "id": "f47d4a2f-0088-4f93-a4e3-e73de3d84e62",
   "metadata": {},
   "outputs": [
    {
     "data": {
      "text/plain": [
       "DECEMBER\n",
       "4,071.00    1\n",
       "5,951.00    1\n",
       "5,594.00    1\n",
       "2,884.00    1\n",
       "3,425.00    1\n",
       "           ..\n",
       "4,904.00    1\n",
       "4,984.00    1\n",
       "3,420.00    1\n",
       "3,190.00    1\n",
       "1,069.00    1\n",
       "Name: count, Length: 98, dtype: int64"
      ]
     },
     "execution_count": 148,
     "metadata": {},
     "output_type": "execute_result"
    }
   ],
   "source": [
    "sales.DECEMBER.value_counts()"
   ]
  },
  {
   "cell_type": "code",
   "execution_count": 149,
   "id": "cefdc637-295a-4e40-9c33-8486196597bb",
   "metadata": {},
   "outputs": [
    {
     "data": {
      "text/plain": [
       "SALES_ID           1\n",
       "SALES_BY_REGION    1\n",
       "JANUARY            1\n",
       "Name: count, dtype: int64"
      ]
     },
     "execution_count": 149,
     "metadata": {},
     "output_type": "execute_result"
    }
   ],
   "source": [
    "sales.columns[:3].value_counts()"
   ]
  },
  {
   "cell_type": "code",
   "execution_count": 152,
   "id": "bb3f7b0f-3dbe-4fac-88dd-935bbd5d4007",
   "metadata": {},
   "outputs": [],
   "source": [
    "sales_new=pd.read_csv('sales.csv')"
   ]
  },
  {
   "cell_type": "code",
   "execution_count": null,
   "id": "0539f59e-bb17-4f97-a2bd-46595f77b7f5",
   "metadata": {},
   "outputs": [],
   "source": []
  },
  {
   "cell_type": "code",
   "execution_count": null,
   "id": "5856d59c-e261-46cb-b81d-1cedf6904855",
   "metadata": {},
   "outputs": [],
   "source": []
  },
  {
   "cell_type": "code",
   "execution_count": null,
   "id": "9e17eb5b-aa51-4a61-b78a-5944ea2610b2",
   "metadata": {},
   "outputs": [],
   "source": []
  },
  {
   "cell_type": "code",
   "execution_count": null,
   "id": "97969a48-d218-4eec-8b27-880c69e6c247",
   "metadata": {},
   "outputs": [],
   "source": []
  },
  {
   "cell_type": "code",
   "execution_count": null,
   "id": "809f6c5b-481a-4371-b02d-740e37f041c7",
   "metadata": {},
   "outputs": [],
   "source": []
  },
  {
   "cell_type": "code",
   "execution_count": null,
   "id": "537d6353-b286-430d-844a-8169298025a6",
   "metadata": {},
   "outputs": [],
   "source": []
  },
  {
   "cell_type": "code",
   "execution_count": null,
   "id": "ff5339b5-f920-47c1-bacc-472e2dbd8746",
   "metadata": {},
   "outputs": [],
   "source": []
  },
  {
   "cell_type": "code",
   "execution_count": null,
   "id": "70f5dc2d-592a-4e6d-9a5f-c90422d53263",
   "metadata": {},
   "outputs": [],
   "source": []
  },
  {
   "cell_type": "code",
   "execution_count": null,
   "id": "6abf8094-f5fb-4be5-90d6-483de6fd1243",
   "metadata": {},
   "outputs": [],
   "source": []
  },
  {
   "cell_type": "code",
   "execution_count": null,
   "id": "24b23221-8b0f-4c31-8277-328064c7e4b9",
   "metadata": {},
   "outputs": [],
   "source": []
  },
  {
   "cell_type": "code",
   "execution_count": null,
   "id": "2784e1a3-8e27-45ac-968d-a83d180f884a",
   "metadata": {},
   "outputs": [],
   "source": []
  },
  {
   "cell_type": "code",
   "execution_count": null,
   "id": "c1e559bc-d7e6-47bc-9cc1-f76749e42007",
   "metadata": {},
   "outputs": [],
   "source": []
  },
  {
   "cell_type": "code",
   "execution_count": null,
   "id": "7b16b171-6cd7-43f1-85f0-412af7b03a49",
   "metadata": {},
   "outputs": [],
   "source": []
  },
  {
   "cell_type": "code",
   "execution_count": null,
   "id": "e1d292f8-abaf-4c6e-93a9-09792b57bf11",
   "metadata": {},
   "outputs": [],
   "source": []
  },
  {
   "cell_type": "code",
   "execution_count": null,
   "id": "3d66f9b2-4119-41d0-9c4e-1cd3df3d715b",
   "metadata": {},
   "outputs": [],
   "source": []
  },
  {
   "cell_type": "code",
   "execution_count": null,
   "id": "0e291552-bce1-42c0-a734-aabd236e5ce6",
   "metadata": {},
   "outputs": [],
   "source": []
  }
 ],
 "metadata": {
  "kernelspec": {
   "display_name": "Python 3 (ipykernel)",
   "language": "python",
   "name": "python3"
  },
  "language_info": {
   "codemirror_mode": {
    "name": "ipython",
    "version": 3
   },
   "file_extension": ".py",
   "mimetype": "text/x-python",
   "name": "python",
   "nbconvert_exporter": "python",
   "pygments_lexer": "ipython3",
   "version": "3.12.4"
  }
 },
 "nbformat": 4,
 "nbformat_minor": 5
}
